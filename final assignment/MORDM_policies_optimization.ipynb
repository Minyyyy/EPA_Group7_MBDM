{
 "cells": [
  {
   "cell_type": "code",
   "execution_count": 1,
   "metadata": {},
   "outputs": [
    {
     "name": "stderr",
     "output_type": "stream",
     "text": [
      "C:\\Users\\User\\Anaconda3\\lib\\site-packages\\statsmodels\\tools\\_testing.py:19: FutureWarning: pandas.util.testing is deprecated. Use the functions in the public API at pandas.testing instead.\n",
      "  import pandas.util.testing as tm\n"
     ]
    }
   ],
   "source": [
    "import numpy as np\n",
    "import scipy as sp\n",
    "import pandas as pd\n",
    "import matplotlib.pyplot as plt\n",
    "import seaborn as sns\n",
    "import networkx as nx"
   ]
  },
  {
   "cell_type": "code",
   "execution_count": 2,
   "metadata": {},
   "outputs": [
    {
     "data": {
      "text/plain": [
       "<Logger EMA (DEBUG)>"
      ]
     },
     "execution_count": 2,
     "metadata": {},
     "output_type": "execute_result"
    }
   ],
   "source": [
    "from ema_workbench import load_results\n",
    "from ema_workbench import (Model, RealParameter, ScalarOutcome, MultiprocessingEvaluator, \n",
    "                           ema_logging, Constant, Scenario, Policy, CategoricalParameter, IntegerParameter,\n",
    "                           perform_experiments, SequentialEvaluator, Constraint)\n",
    "from ema_workbench.em_framework.evaluators import perform_experiments\n",
    "from ema_workbench.em_framework.samplers import sample_uncertainties\n",
    "from ema_workbench.em_framework.optimization import (HyperVolume, EpsilonProgress)\n",
    "from ema_workbench.util import ema_logging, utilities\n",
    "import time\n",
    "from problem_formulation import get_model_for_problem_formulation\n",
    "#from signal import signal, SIGPIPE, SIG_DFL\n",
    "#signal(SIGPIPE, SIG_DFL)\n",
    "\n",
    "ema_logging.log_to_stderr(ema_logging.INFO)"
   ]
  },
  {
   "cell_type": "markdown",
   "metadata": {},
   "source": [
    "## MORDM\n",
    "\n",
    "MORDM consists of four main steps:\n",
    "1. Problem formulation \n",
    "2. Searching for candidate solutions\n",
    "3. Generating an ensemble of scenarios to explore the effect of uncertainties\n",
    "4. Using scenario discovery to detect the vulnerabilities of candidate solutions and to improve them\n",
    "\n",
    "\n",
    "### 1. Problem formulation\n",
    "\n",
    "For Dike Ring 1, the following objectives, all to be minimized, are of interest:\\\n",
    "•\tA.1 Expected Annual Damage\\\n",
    "•\tA.1 Dike Investment Costs\\\n",
    "•\tA.1 Expected Annual Number of Deaths\\\n",
    "•\tTotal Expected Annual Number of Deaths"
   ]
  },
  {
   "cell_type": "markdown",
   "metadata": {},
   "source": [
    "## 2. Searching for candidate solutions"
   ]
  },
  {
   "cell_type": "markdown",
   "metadata": {},
   "source": [
    "### Constraints\n",
    "\n",
    "For each outcome of interest we have set a specific constraint that the candidate solutions must follow. We will determine most of them by looking at the random policies that were generated with open exploration."
   ]
  },
  {
   "cell_type": "code",
   "execution_count": 6,
   "metadata": {},
   "outputs": [],
   "source": [
    "# function to aggregate over time and locations\n",
    "def aggregate_df(df):\n",
    "    df_aggregate = pd.DataFrame()\n",
    "    locations = ['A.1', 'A.2', 'A.3', 'A.4', 'A.5']\n",
    "    step = ['0', '1', '2']\n",
    "    metrics = ['Expected Annual Damage', 'Dike Investment Costs', 'Expected Number of Deaths', 'RfR Total Costs', 'Expected Evacuation Costs']\n",
    "    \n",
    "    for metric in metrics:\n",
    "        if metric == \"RfR Total Costs\" or metric == \"Expected Evacuation Costs\":\n",
    "\n",
    "            columns = [metric + ' ' + time for time in step]\n",
    "\n",
    "            df_aggregate[metric] = df[columns].sum(axis=1)\n",
    "        else:\n",
    "            for location in locations:\n",
    "                columns = [location + '_' + metric + ' ' + time for time in step]\n",
    "\n",
    "                df_aggregate[location + '_' + metric] = df[columns].sum(axis=1)\n",
    "            \n",
    "            columns_locations = [location + '_' + metric for location in locations]\n",
    "            df_aggregate['Total ' + metric] = df_aggregate[columns_locations].sum(axis=1)\n",
    "    \n",
    " \n",
    "    return df_aggregate"
   ]
  },
  {
   "cell_type": "code",
   "execution_count": 8,
   "metadata": {},
   "outputs": [],
   "source": [
    "outcomes_of_interest = [\"A.1_Expected Annual Damage\",\"A.1_Dike Investment Costs\",\\\n",
    "                        \"A.1_Expected Number of Deaths\",\"Total Expected Number of Deaths\",\\\n",
    "                        \"Total Expected Annual Damage\"]"
   ]
  },
  {
   "cell_type": "code",
   "execution_count": 9,
   "metadata": {},
   "outputs": [
    {
     "name": "stderr",
     "output_type": "stream",
     "text": [
      "[MainProcess/INFO] results loaded successfully from C:\\Users\\User\\Documents\\GitHub\\EPA_Group7_MBDM\\final assignment\\results\\policies_fully_disaggregated.tar.gz\n"
     ]
    },
    {
     "data": {
      "text/html": [
       "<div>\n",
       "<style scoped>\n",
       "    .dataframe tbody tr th:only-of-type {\n",
       "        vertical-align: middle;\n",
       "    }\n",
       "\n",
       "    .dataframe tbody tr th {\n",
       "        vertical-align: top;\n",
       "    }\n",
       "\n",
       "    .dataframe thead th {\n",
       "        text-align: right;\n",
       "    }\n",
       "</style>\n",
       "<table border=\"1\" class=\"dataframe\">\n",
       "  <thead>\n",
       "    <tr style=\"text-align: right;\">\n",
       "      <th></th>\n",
       "      <th>A.1_Expected Annual Damage</th>\n",
       "      <th>A.1_Dike Investment Costs</th>\n",
       "      <th>A.1_Expected Number of Deaths</th>\n",
       "      <th>Total Expected Number of Deaths</th>\n",
       "      <th>Total Expected Annual Damage</th>\n",
       "    </tr>\n",
       "  </thead>\n",
       "  <tbody>\n",
       "    <tr>\n",
       "      <th>0</th>\n",
       "      <td>0.000000e+00</td>\n",
       "      <td>2.006358e+08</td>\n",
       "      <td>0.000000</td>\n",
       "      <td>0.006540</td>\n",
       "      <td>6.640217e+07</td>\n",
       "    </tr>\n",
       "    <tr>\n",
       "      <th>1</th>\n",
       "      <td>0.000000e+00</td>\n",
       "      <td>2.006358e+08</td>\n",
       "      <td>0.000000</td>\n",
       "      <td>0.020768</td>\n",
       "      <td>1.431763e+08</td>\n",
       "    </tr>\n",
       "    <tr>\n",
       "      <th>2</th>\n",
       "      <td>0.000000e+00</td>\n",
       "      <td>2.006358e+08</td>\n",
       "      <td>0.000000</td>\n",
       "      <td>0.005515</td>\n",
       "      <td>5.264942e+07</td>\n",
       "    </tr>\n",
       "    <tr>\n",
       "      <th>3</th>\n",
       "      <td>0.000000e+00</td>\n",
       "      <td>2.006358e+08</td>\n",
       "      <td>0.000000</td>\n",
       "      <td>0.003705</td>\n",
       "      <td>2.574227e+07</td>\n",
       "    </tr>\n",
       "    <tr>\n",
       "      <th>4</th>\n",
       "      <td>0.000000e+00</td>\n",
       "      <td>2.006358e+08</td>\n",
       "      <td>0.000000</td>\n",
       "      <td>0.056785</td>\n",
       "      <td>5.248435e+08</td>\n",
       "    </tr>\n",
       "    <tr>\n",
       "      <th>...</th>\n",
       "      <td>...</td>\n",
       "      <td>...</td>\n",
       "      <td>...</td>\n",
       "      <td>...</td>\n",
       "      <td>...</td>\n",
       "    </tr>\n",
       "    <tr>\n",
       "      <th>39995</th>\n",
       "      <td>0.000000e+00</td>\n",
       "      <td>1.351227e+08</td>\n",
       "      <td>0.000000</td>\n",
       "      <td>0.000276</td>\n",
       "      <td>1.287416e+06</td>\n",
       "    </tr>\n",
       "    <tr>\n",
       "      <th>39996</th>\n",
       "      <td>0.000000e+00</td>\n",
       "      <td>1.351227e+08</td>\n",
       "      <td>0.000000</td>\n",
       "      <td>0.000044</td>\n",
       "      <td>3.102785e+05</td>\n",
       "    </tr>\n",
       "    <tr>\n",
       "      <th>39997</th>\n",
       "      <td>0.000000e+00</td>\n",
       "      <td>1.351227e+08</td>\n",
       "      <td>0.000000</td>\n",
       "      <td>0.000039</td>\n",
       "      <td>4.155308e+05</td>\n",
       "    </tr>\n",
       "    <tr>\n",
       "      <th>39998</th>\n",
       "      <td>6.111999e+08</td>\n",
       "      <td>1.351227e+08</td>\n",
       "      <td>0.087021</td>\n",
       "      <td>0.087021</td>\n",
       "      <td>6.111999e+08</td>\n",
       "    </tr>\n",
       "    <tr>\n",
       "      <th>39999</th>\n",
       "      <td>0.000000e+00</td>\n",
       "      <td>1.351227e+08</td>\n",
       "      <td>0.000000</td>\n",
       "      <td>0.000000</td>\n",
       "      <td>0.000000e+00</td>\n",
       "    </tr>\n",
       "  </tbody>\n",
       "</table>\n",
       "<p>40000 rows × 5 columns</p>\n",
       "</div>"
      ],
      "text/plain": [
       "       A.1_Expected Annual Damage  A.1_Dike Investment Costs  \\\n",
       "0                    0.000000e+00               2.006358e+08   \n",
       "1                    0.000000e+00               2.006358e+08   \n",
       "2                    0.000000e+00               2.006358e+08   \n",
       "3                    0.000000e+00               2.006358e+08   \n",
       "4                    0.000000e+00               2.006358e+08   \n",
       "...                           ...                        ...   \n",
       "39995                0.000000e+00               1.351227e+08   \n",
       "39996                0.000000e+00               1.351227e+08   \n",
       "39997                0.000000e+00               1.351227e+08   \n",
       "39998                6.111999e+08               1.351227e+08   \n",
       "39999                0.000000e+00               1.351227e+08   \n",
       "\n",
       "       A.1_Expected Number of Deaths  Total Expected Number of Deaths  \\\n",
       "0                           0.000000                         0.006540   \n",
       "1                           0.000000                         0.020768   \n",
       "2                           0.000000                         0.005515   \n",
       "3                           0.000000                         0.003705   \n",
       "4                           0.000000                         0.056785   \n",
       "...                              ...                              ...   \n",
       "39995                       0.000000                         0.000276   \n",
       "39996                       0.000000                         0.000044   \n",
       "39997                       0.000000                         0.000039   \n",
       "39998                       0.087021                         0.087021   \n",
       "39999                       0.000000                         0.000000   \n",
       "\n",
       "       Total Expected Annual Damage  \n",
       "0                      6.640217e+07  \n",
       "1                      1.431763e+08  \n",
       "2                      5.264942e+07  \n",
       "3                      2.574227e+07  \n",
       "4                      5.248435e+08  \n",
       "...                             ...  \n",
       "39995                  1.287416e+06  \n",
       "39996                  3.102785e+05  \n",
       "39997                  4.155308e+05  \n",
       "39998                  6.111999e+08  \n",
       "39999                  0.000000e+00  \n",
       "\n",
       "[40000 rows x 5 columns]"
      ]
     },
     "execution_count": 9,
     "metadata": {},
     "output_type": "execute_result"
    }
   ],
   "source": [
    "#Load in the results\n",
    "results_rp=utilities.load_results('results/policies_fully_disaggregated.tar.gz')\n",
    "experiments_rp, outcomes_rp = results_rp\n",
    "df_outcomes_rp_unaggregated = pd.DataFrame(outcomes_rp)\n",
    "\n",
    "df_rp = aggregate_df(df_outcomes_rp_unaggregated)\n",
    "df_rp = df_rp[outcomes_of_interest]\n",
    "df_rp"
   ]
  },
  {
   "cell_type": "code",
   "execution_count": 10,
   "metadata": {},
   "outputs": [],
   "source": [
    "constraints_dict = {}\n",
    "constraints_dict[df_rp.columns[1]] = df_rp.iloc[:,1].median()\n",
    "constraints_dict[df_rp.columns[4]] = df_rp.iloc[:,4].median()\n",
    "constraints_dict[df_rp.columns[3]] = 0.0001 * 3 * 5"
   ]
  },
  {
   "cell_type": "code",
   "execution_count": 11,
   "metadata": {},
   "outputs": [
    {
     "data": {
      "text/plain": [
       "{'A.1_Dike Investment Costs': 196653651.43629694,\n",
       " 'Total Expected Annual Damage': 5867396.200260956,\n",
       " 'Total Expected Number of Deaths': 0.0015}"
      ]
     },
     "execution_count": 11,
     "metadata": {},
     "output_type": "execute_result"
    }
   ],
   "source": [
    "constraints_dict"
   ]
  },
  {
   "cell_type": "code",
   "execution_count": 12,
   "metadata": {},
   "outputs": [],
   "source": [
    "max_total_deaths = 0.0001 * 3 * 5\n",
    "max_total_damage = df_rp.iloc[:,4].median()\n",
    "max_deaths_a1 = df_rp.iloc[:,2].median()\n",
    "max_damage_a1 = df_rp.iloc[:,0].median()"
   ]
  },
  {
   "cell_type": "code",
   "execution_count": 13,
   "metadata": {},
   "outputs": [],
   "source": [
    "# Adding the constraint for the allowed maximum number of deaths defined by the Delta Commission. By setting this as a constraint, the optimization will not\n",
    "# return policies that do not meet this criterion.\n",
    "constraints = [Constraint(\"Max Total Number of deaths\", outcome_names=['Total Expected Number of Deaths'], function=lambda x:max(0, x-max_total_deaths)),\n",
    "               #Constraint(\"Max Total Expected Annual Damage\", outcome_names=[\"Total Expected Annual Damage\"], function=lambda x:max(0, x-max_total_damage)),\n",
    "               #Constraint(\"Max A.1 Expected Annual Damage\", outcome_names=[\"A.1_Expected Annual Damage\"], function=lambda x:max(0, x-max_damage_a1)),\n",
    "               #Constraint(\"Max A.1 Expected Number of Deaths\", outcome_names=[\"A.1_Expected Number of Deaths\"], function=lambda x:max(0, x-max_deaths_a1))\n",
    "              ]"
   ]
  },
  {
   "cell_type": "code",
   "execution_count": 14,
   "metadata": {},
   "outputs": [
    {
     "data": {
      "text/html": [
       "<div>\n",
       "<style scoped>\n",
       "    .dataframe tbody tr th:only-of-type {\n",
       "        vertical-align: middle;\n",
       "    }\n",
       "\n",
       "    .dataframe tbody tr th {\n",
       "        vertical-align: top;\n",
       "    }\n",
       "\n",
       "    .dataframe thead th {\n",
       "        text-align: right;\n",
       "    }\n",
       "</style>\n",
       "<table border=\"1\" class=\"dataframe\">\n",
       "  <thead>\n",
       "    <tr style=\"text-align: right;\">\n",
       "      <th></th>\n",
       "      <th>Max_values</th>\n",
       "      <th>Min_values</th>\n",
       "    </tr>\n",
       "    <tr>\n",
       "      <th>Unnamed: 0</th>\n",
       "      <th></th>\n",
       "      <th></th>\n",
       "    </tr>\n",
       "  </thead>\n",
       "  <tbody>\n",
       "    <tr>\n",
       "      <th>A.1_Expected Annual Damage</th>\n",
       "      <td>3.694513e+09</td>\n",
       "      <td>0.0</td>\n",
       "    </tr>\n",
       "    <tr>\n",
       "      <th>A.1_Dike Investment Costs</th>\n",
       "      <td>3.753980e+08</td>\n",
       "      <td>0.0</td>\n",
       "    </tr>\n",
       "    <tr>\n",
       "      <th>A.1_Expected Number of Deaths</th>\n",
       "      <td>1.834596e+00</td>\n",
       "      <td>0.0</td>\n",
       "    </tr>\n",
       "    <tr>\n",
       "      <th>Total Expected Number of Deaths</th>\n",
       "      <td>5.276779e+00</td>\n",
       "      <td>0.0</td>\n",
       "    </tr>\n",
       "    <tr>\n",
       "      <th>Total Expected Annual Damage</th>\n",
       "      <td>5.736794e+09</td>\n",
       "      <td>0.0</td>\n",
       "    </tr>\n",
       "  </tbody>\n",
       "</table>\n",
       "</div>"
      ],
      "text/plain": [
       "                                   Max_values  Min_values\n",
       "Unnamed: 0                                               \n",
       "A.1_Expected Annual Damage       3.694513e+09         0.0\n",
       "A.1_Dike Investment Costs        3.753980e+08         0.0\n",
       "A.1_Expected Number of Deaths    1.834596e+00         0.0\n",
       "Total Expected Number of Deaths  5.276779e+00         0.0\n",
       "Total Expected Annual Damage     5.736794e+09         0.0"
      ]
     },
     "execution_count": 14,
     "metadata": {},
     "output_type": "execute_result"
    }
   ],
   "source": [
    "outcome_ranges = pd.read_csv(\"results/outcome_ranges.csv\")\n",
    "outcome_ranges.set_index(\"Unnamed: 0\",inplace=True)\n",
    "outcome_ranges"
   ]
  },
  {
   "cell_type": "code",
   "execution_count": null,
   "metadata": {},
   "outputs": [],
   "source": [
    "from problem_formulation_modified import get_model_for_problem_formulation_modified\n",
    "dike_model,  planning_steps = get_model_for_problem_formulation_modified(outcome_ranges)\n",
    "ema_logging.log_to_stderr(ema_logging.INFO)\n",
    "\n",
    "with MultiprocessingEvaluator(dike_model) as evaluator:\n",
    "    results = evaluator.optimize(\n",
    "        nfe=20,\n",
    "        searchover=\"levers\",\n",
    "        epsilons=[\n",
    "            0.1,0.1,0.1,0.1,0.1\n",
    "        ]\n",
    "        * len(dike_model.outcomes),\n",
    "        constraints=constraints,\n",
    "    )"
   ]
  }
 ],
 "metadata": {
  "kernelspec": {
   "display_name": "Python 3",
   "language": "python",
   "name": "python3"
  },
  "language_info": {
   "codemirror_mode": {
    "name": "ipython",
    "version": 3
   },
   "file_extension": ".py",
   "mimetype": "text/x-python",
   "name": "python",
   "nbconvert_exporter": "python",
   "pygments_lexer": "ipython3",
   "version": "3.7.4"
  }
 },
 "nbformat": 4,
 "nbformat_minor": 2
}
