{
 "cells": [
  {
   "cell_type": "markdown",
   "id": "c70e94e9-8b20-4245-a582-ed3cd7aec2b6",
   "metadata": {},
   "source": [
    "# Minimum and maximum values"
   ]
  },
  {
   "cell_type": "markdown",
   "id": "9440ba2e-0f24-4cda-abb3-328cf89effc8",
   "metadata": {},
   "source": [
    "First, we will assess the min and max values under which we need for the MORDM optimization."
   ]
  },
  {
   "cell_type": "code",
   "execution_count": 33,
   "id": "2e9ec1c8-eca7-4ebd-9504-9fb61b8f2d37",
   "metadata": {},
   "outputs": [],
   "source": [
    "import pandas as pd\n",
    "import numpy as np\n",
    "\n",
    "from ema_workbench import load_results"
   ]
  },
  {
   "cell_type": "code",
   "execution_count": 34,
   "id": "8fb56c07-750b-4760-b143-084614c25675",
   "metadata": {},
   "outputs": [],
   "source": [
    "experiments, outcomes = load_results('../final assignment/results/base_case_diss_time_and_locations_no_policy.tar.gz') \n",
    "df_outcomes = pd.DataFrame.from_dict(outcomes)"
   ]
  },
  {
   "cell_type": "code",
   "execution_count": 35,
   "id": "d6ccffa5-b58f-4b01-b0e4-e928fdbf3c51",
   "metadata": {},
   "outputs": [],
   "source": [
    "experiments2, outcomes2 = load_results('../final assignment/results/policies_fully_disaggregated.tar.gz') \n",
    "df2_outcomes = pd.DataFrame.from_dict(outcomes2)"
   ]
  },
  {
   "cell_type": "code",
   "execution_count": 36,
   "id": "bc5a24fa-975d-4cc3-bf92-55b51ec1f918",
   "metadata": {},
   "outputs": [],
   "source": [
    "# function to aggregate over time and locations\n",
    "def aggregate_df(df):\n",
    "    df_aggregate_time = pd.DataFrame()\n",
    "    df_aggregate_time_location = pd.DataFrame()\n",
    "    locations = ['A.1', 'A.2', 'A.3', 'A.4', 'A.5']\n",
    "    step = ['0', '1', '2']\n",
    "    metrics = ['Expected Annual Damage', 'Dike Investment Costs', 'Expected Number of Deaths', 'RfR Total Costs', 'Expected Evacuation Costs']\n",
    "    \n",
    "    for metric in metrics:\n",
    "        if metric == \"RfR Total Costs\" or metric == \"Expected Evacuation Costs\":\n",
    "\n",
    "            columns = [metric + ' ' + time for time in step]\n",
    "\n",
    "            df_aggregate_time_location[metric + ' Aggregate Time'] = df[columns].sum(axis=1)\n",
    "        else:\n",
    "            for location in locations:\n",
    "                columns = [location + '_' + metric + ' ' + time for time in step]\n",
    "\n",
    "                df_aggregate_time[location + '_' + metric + ' Aggregate Time'] = df[columns].sum(axis=1)\n",
    "            \n",
    "            columns_locations = [location + '_' + metric + ' Aggregate Time' for location in locations]\n",
    "            df_aggregate_time_location[metric + ' Aggregate Time and Location'] = df_aggregate_time[columns_locations].sum(axis=1)\n",
    "                    \n",
    "\n",
    "    return df_aggregate_time, df_aggregate_time_location"
   ]
  },
  {
   "cell_type": "code",
   "execution_count": 37,
   "id": "672a216f-f011-430d-8d9e-7c36eae74b37",
   "metadata": {},
   "outputs": [],
   "source": [
    "df1_agg_experiments, df1_agg_outcomes = aggregate_df(df_outcomes)\n",
    "df2_agg_experiments, df2_agg_outcomes = aggregate_df(df2_outcomes)"
   ]
  },
  {
   "cell_type": "code",
   "execution_count": 46,
   "id": "a8a8ab55-c2c3-4e44-a39f-215050a69e94",
   "metadata": {},
   "outputs": [
    {
     "data": {
      "text/html": [
       "<div>\n",
       "<style scoped>\n",
       "    .dataframe tbody tr th:only-of-type {\n",
       "        vertical-align: middle;\n",
       "    }\n",
       "\n",
       "    .dataframe tbody tr th {\n",
       "        vertical-align: top;\n",
       "    }\n",
       "\n",
       "    .dataframe thead th {\n",
       "        text-align: right;\n",
       "    }\n",
       "</style>\n",
       "<table border=\"1\" class=\"dataframe\">\n",
       "  <thead>\n",
       "    <tr style=\"text-align: right;\">\n",
       "      <th></th>\n",
       "      <th>Expected Annual Damage Aggregate Time and Location</th>\n",
       "      <th>Dike Investment Costs Aggregate Time and Location</th>\n",
       "      <th>Expected Number of Deaths Aggregate Time and Location</th>\n",
       "      <th>RfR Total Costs Aggregate Time</th>\n",
       "      <th>Expected Evacuation Costs Aggregate Time</th>\n",
       "    </tr>\n",
       "  </thead>\n",
       "  <tbody>\n",
       "    <tr>\n",
       "      <th>0</th>\n",
       "      <td>1.607386e+07</td>\n",
       "      <td>-7774174048</td>\n",
       "      <td>0.000000</td>\n",
       "      <td>0.0</td>\n",
       "      <td>0.0</td>\n",
       "    </tr>\n",
       "    <tr>\n",
       "      <th>1</th>\n",
       "      <td>1.650834e+07</td>\n",
       "      <td>6470</td>\n",
       "      <td>0.000000</td>\n",
       "      <td>0.0</td>\n",
       "      <td>0.0</td>\n",
       "    </tr>\n",
       "    <tr>\n",
       "      <th>2</th>\n",
       "      <td>9.157545e+07</td>\n",
       "      <td>-6793162320</td>\n",
       "      <td>0.053110</td>\n",
       "      <td>0.0</td>\n",
       "      <td>0.0</td>\n",
       "    </tr>\n",
       "    <tr>\n",
       "      <th>3</th>\n",
       "      <td>7.562237e+08</td>\n",
       "      <td>5176</td>\n",
       "      <td>0.605701</td>\n",
       "      <td>0.0</td>\n",
       "      <td>0.0</td>\n",
       "    </tr>\n",
       "    <tr>\n",
       "      <th>4</th>\n",
       "      <td>1.027912e+09</td>\n",
       "      <td>-5884647552</td>\n",
       "      <td>1.173617</td>\n",
       "      <td>0.0</td>\n",
       "      <td>0.0</td>\n",
       "    </tr>\n",
       "    <tr>\n",
       "      <th>...</th>\n",
       "      <td>...</td>\n",
       "      <td>...</td>\n",
       "      <td>...</td>\n",
       "      <td>...</td>\n",
       "      <td>...</td>\n",
       "    </tr>\n",
       "    <tr>\n",
       "      <th>995</th>\n",
       "      <td>1.680499e+09</td>\n",
       "      <td>0</td>\n",
       "      <td>3.473313</td>\n",
       "      <td>0.0</td>\n",
       "      <td>0.0</td>\n",
       "    </tr>\n",
       "    <tr>\n",
       "      <th>996</th>\n",
       "      <td>2.410400e+08</td>\n",
       "      <td>0</td>\n",
       "      <td>0.278405</td>\n",
       "      <td>0.0</td>\n",
       "      <td>0.0</td>\n",
       "    </tr>\n",
       "    <tr>\n",
       "      <th>997</th>\n",
       "      <td>2.703948e+09</td>\n",
       "      <td>0</td>\n",
       "      <td>1.996724</td>\n",
       "      <td>0.0</td>\n",
       "      <td>0.0</td>\n",
       "    </tr>\n",
       "    <tr>\n",
       "      <th>998</th>\n",
       "      <td>1.222352e+09</td>\n",
       "      <td>0</td>\n",
       "      <td>0.900411</td>\n",
       "      <td>0.0</td>\n",
       "      <td>0.0</td>\n",
       "    </tr>\n",
       "    <tr>\n",
       "      <th>999</th>\n",
       "      <td>1.895133e+08</td>\n",
       "      <td>0</td>\n",
       "      <td>0.129749</td>\n",
       "      <td>0.0</td>\n",
       "      <td>0.0</td>\n",
       "    </tr>\n",
       "  </tbody>\n",
       "</table>\n",
       "<p>1000 rows × 5 columns</p>\n",
       "</div>"
      ],
      "text/plain": [
       "     Expected Annual Damage Aggregate Time and Location  \\\n",
       "0                                         1.607386e+07    \n",
       "1                                         1.650834e+07    \n",
       "2                                         9.157545e+07    \n",
       "3                                         7.562237e+08    \n",
       "4                                         1.027912e+09    \n",
       "..                                                 ...    \n",
       "995                                       1.680499e+09    \n",
       "996                                       2.410400e+08    \n",
       "997                                       2.703948e+09    \n",
       "998                                       1.222352e+09    \n",
       "999                                       1.895133e+08    \n",
       "\n",
       "     Dike Investment Costs Aggregate Time and Location  \\\n",
       "0                                          -7774174048   \n",
       "1                                                 6470   \n",
       "2                                          -6793162320   \n",
       "3                                                 5176   \n",
       "4                                          -5884647552   \n",
       "..                                                 ...   \n",
       "995                                                  0   \n",
       "996                                                  0   \n",
       "997                                                  0   \n",
       "998                                                  0   \n",
       "999                                                  0   \n",
       "\n",
       "     Expected Number of Deaths Aggregate Time and Location  \\\n",
       "0                                             0.000000       \n",
       "1                                             0.000000       \n",
       "2                                             0.053110       \n",
       "3                                             0.605701       \n",
       "4                                             1.173617       \n",
       "..                                                 ...       \n",
       "995                                           3.473313       \n",
       "996                                           0.278405       \n",
       "997                                           1.996724       \n",
       "998                                           0.900411       \n",
       "999                                           0.129749       \n",
       "\n",
       "     RfR Total Costs Aggregate Time  Expected Evacuation Costs Aggregate Time  \n",
       "0                               0.0                                       0.0  \n",
       "1                               0.0                                       0.0  \n",
       "2                               0.0                                       0.0  \n",
       "3                               0.0                                       0.0  \n",
       "4                               0.0                                       0.0  \n",
       "..                              ...                                       ...  \n",
       "995                             0.0                                       0.0  \n",
       "996                             0.0                                       0.0  \n",
       "997                             0.0                                       0.0  \n",
       "998                             0.0                                       0.0  \n",
       "999                             0.0                                       0.0  \n",
       "\n",
       "[1000 rows x 5 columns]"
      ]
     },
     "execution_count": 46,
     "metadata": {},
     "output_type": "execute_result"
    }
   ],
   "source": [
    "df1_agg_outcomes"
   ]
  },
  {
   "cell_type": "code",
   "execution_count": 38,
   "id": "dc31d92a-db2a-40ae-939a-1d22a4e04a9f",
   "metadata": {},
   "outputs": [],
   "source": [
    "max_nopol = df1_agg_outcomes.max()\n",
    "min_nopol = df1_agg_outcomes.min()\n",
    "\n",
    "max_pol = df2_agg_outcomes.max()\n",
    "min_pol = df2_agg_outcomes.min()"
   ]
  },
  {
   "cell_type": "code",
   "execution_count": 39,
   "id": "549c551a-ded5-4c4b-8e8a-a4fa8136d1f9",
   "metadata": {},
   "outputs": [
    {
     "data": {
      "text/plain": [
       "(Expected Annual Damage Aggregate Time and Location       5.736794e+09\n",
       " Dike Investment Costs Aggregate Time and Location        6.470000e+03\n",
       " Expected Number of Deaths Aggregate Time and Location    5.276779e+00\n",
       " RfR Total Costs Aggregate Time                           0.000000e+00\n",
       " Expected Evacuation Costs Aggregate Time                 0.000000e+00\n",
       " dtype: float64,\n",
       " Expected Annual Damage Aggregate Time and Location       1.607386e+07\n",
       " Dike Investment Costs Aggregate Time and Location       -7.774174e+09\n",
       " Expected Number of Deaths Aggregate Time and Location    0.000000e+00\n",
       " RfR Total Costs Aggregate Time                           0.000000e+00\n",
       " Expected Evacuation Costs Aggregate Time                 0.000000e+00\n",
       " dtype: float64)"
      ]
     },
     "execution_count": 39,
     "metadata": {},
     "output_type": "execute_result"
    }
   ],
   "source": [
    "max_nopol, min_nopol"
   ]
  },
  {
   "cell_type": "code",
   "execution_count": 40,
   "id": "84876f3d-075a-4001-8da1-08f87d2ed393",
   "metadata": {},
   "outputs": [
    {
     "data": {
      "text/plain": [
       "(Expected Annual Damage Aggregate Time and Location       2.730021e+09\n",
       " Dike Investment Costs Aggregate Time and Location        9.334020e+08\n",
       " Expected Number of Deaths Aggregate Time and Location    2.391760e+00\n",
       " RfR Total Costs Aggregate Time                           1.888800e+09\n",
       " Expected Evacuation Costs Aggregate Time                 1.246373e+05\n",
       " dtype: float64,\n",
       " Expected Annual Damage Aggregate Time and Location       0.000000e+00\n",
       " Dike Investment Costs Aggregate Time and Location        4.777737e+08\n",
       " Expected Number of Deaths Aggregate Time and Location    0.000000e+00\n",
       " RfR Total Costs Aggregate Time                           2.904000e+08\n",
       " Expected Evacuation Costs Aggregate Time                 0.000000e+00\n",
       " dtype: float64)"
      ]
     },
     "execution_count": 40,
     "metadata": {},
     "output_type": "execute_result"
    }
   ],
   "source": [
    "max_pol, min_pol"
   ]
  },
  {
   "cell_type": "code",
   "execution_count": 41,
   "id": "5c724f64-2486-459d-bd7b-5546711f1a18",
   "metadata": {},
   "outputs": [],
   "source": [
    "max_of_range = pd.concat([max_nopol, max_pol], axis=1) #axis = 1 because we want the two options PER objective (instead of everything in one column)\n",
    "min_of_range = pd.concat([min_nopol, min_pol], axis=1)\n",
    "\n",
    "max_of_range = max_of_range.max(axis=1) #of both options, we want the highest of each objective\n",
    "min_of_range = min_of_range.min(axis=1)#of both options, we want the lowest of each objective"
   ]
  },
  {
   "cell_type": "code",
   "execution_count": 42,
   "id": "5b92c289-663f-4720-a744-44b2240839b4",
   "metadata": {},
   "outputs": [
    {
     "data": {
      "text/plain": [
       "(Expected Annual Damage Aggregate Time and Location       5.736794e+09\n",
       " Dike Investment Costs Aggregate Time and Location        9.334020e+08\n",
       " Expected Number of Deaths Aggregate Time and Location    5.276779e+00\n",
       " RfR Total Costs Aggregate Time                           1.888800e+09\n",
       " Expected Evacuation Costs Aggregate Time                 1.246373e+05\n",
       " dtype: float64,\n",
       " Expected Annual Damage Aggregate Time and Location       0.000000e+00\n",
       " Dike Investment Costs Aggregate Time and Location       -7.774174e+09\n",
       " Expected Number of Deaths Aggregate Time and Location    0.000000e+00\n",
       " RfR Total Costs Aggregate Time                           0.000000e+00\n",
       " Expected Evacuation Costs Aggregate Time                 0.000000e+00\n",
       " dtype: float64)"
      ]
     },
     "execution_count": 42,
     "metadata": {},
     "output_type": "execute_result"
    }
   ],
   "source": [
    "max_of_range,min_of_range"
   ]
  },
  {
   "cell_type": "code",
   "execution_count": 45,
   "id": "06ca2934-b7c4-47d8-96fa-3a505ab06264",
   "metadata": {},
   "outputs": [
    {
     "data": {
      "text/plain": [
       "Expected Annual Damage Aggregate Time and Location       0.000000e+00\n",
       "Dike Investment Costs Aggregate Time and Location       -7.774174e+09\n",
       "Expected Number of Deaths Aggregate Time and Location    0.000000e+00\n",
       "RfR Total Costs Aggregate Time                           0.000000e+00\n",
       "Expected Evacuation Costs Aggregate Time                 0.000000e+00\n",
       "dtype: float64"
      ]
     },
     "execution_count": 45,
     "metadata": {},
     "output_type": "execute_result"
    }
   ],
   "source": [
    "#however dike investment costs aren't supposed to be lower than zero, so we will change that\n",
    "min_of_range['Expected Annual Damage Aggregate Time and Location']= 0\n",
    "min_of_range"
   ]
  },
  {
   "cell_type": "code",
   "execution_count": 43,
   "id": "54e293d4-e654-4944-b797-96be91fcf1c5",
   "metadata": {},
   "outputs": [
    {
     "data": {
      "text/plain": [
       "pandas.core.series.Series"
      ]
     },
     "execution_count": 43,
     "metadata": {},
     "output_type": "execute_result"
    }
   ],
   "source": [
    "type(max_of_range)"
   ]
  },
  {
   "cell_type": "code",
   "execution_count": null,
   "id": "886951c1-04f8-4db9-9838-2b30884b9ec6",
   "metadata": {},
   "outputs": [],
   "source": []
  }
 ],
 "metadata": {
  "kernelspec": {
   "display_name": "Python 3 (ipykernel)",
   "language": "python",
   "name": "python3"
  },
  "language_info": {
   "codemirror_mode": {
    "name": "ipython",
    "version": 3
   },
   "file_extension": ".py",
   "mimetype": "text/x-python",
   "name": "python",
   "nbconvert_exporter": "python",
   "pygments_lexer": "ipython3",
   "version": "3.9.7"
  }
 },
 "nbformat": 4,
 "nbformat_minor": 5
}
