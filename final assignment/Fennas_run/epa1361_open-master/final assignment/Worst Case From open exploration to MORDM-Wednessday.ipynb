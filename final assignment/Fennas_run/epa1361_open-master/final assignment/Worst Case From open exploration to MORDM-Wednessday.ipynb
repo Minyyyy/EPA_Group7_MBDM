{
 "cells": [
  {
   "cell_type": "code",
   "execution_count": 83,
   "id": "e1979e78-5602-4aeb-b187-cb26c6880c7d",
   "metadata": {},
   "outputs": [
    {
     "data": {
      "text/plain": [
       "<Logger EMA (DEBUG)>"
      ]
     },
     "execution_count": 83,
     "metadata": {},
     "output_type": "execute_result"
    }
   ],
   "source": [
    "from ema_workbench import load_results\n",
    "from ema_workbench import (Model, RealParameter, ScalarOutcome, MultiprocessingEvaluator, \n",
    "                           ema_logging, Constant, Scenario, Policy, CategoricalParameter, IntegerParameter,\n",
    "                           perform_experiments, SequentialEvaluator)\n",
    "\n",
    "from ema_workbench.em_framework.evaluators import perform_experiments\n",
    "from ema_workbench.em_framework.samplers import sample_uncertainties\n",
    "from ema_workbench.util import ema_logging, utilities\n",
    "from ema_workbench.analysis import prim\n",
    "import time\n",
    "\n",
    "ema_logging.log_to_stderr(ema_logging.INFO)"
   ]
  },
  {
   "cell_type": "code",
   "execution_count": 2,
   "id": "6ca44c22-ac09-4d46-b4b9-85608794b8dd",
   "metadata": {},
   "outputs": [],
   "source": [
    "import pandas as pd\n",
    "\n",
    "import matplotlib.pyplot as plt\n",
    "import seaborn as sns\n",
    "import numpy as np"
   ]
  },
  {
   "cell_type": "code",
   "execution_count": 85,
   "id": "0a6f24c8-5a68-4f6d-81b0-a25c1839e88a",
   "metadata": {},
   "outputs": [],
   "source": [
    "#Loading in the base case file\n",
    "base_case_results=pd.read_csv('base_case_without_NaN.csv')\n",
    "base_case_results=base_case_results.drop(columns=[\"Unnamed: 0\"])"
   ]
  },
  {
   "cell_type": "code",
   "execution_count": 86,
   "id": "37e929ae-c13b-499f-bf8e-0fbd4115206f",
   "metadata": {},
   "outputs": [],
   "source": [
    "#split base case in outcomes and experiments\n",
    "outcomes=base_case_results.iloc[:,:51]\n",
    "experiments=base_case_results.iloc[:,51:]"
   ]
  },
  {
   "cell_type": "markdown",
   "id": "edbaafa1-adc2-4441-8d6c-2b8d474e4b27",
   "metadata": {},
   "source": [
    "### Little bit of open exploration\n",
    "First we want to see how the scenarios are divided according our objectives.\n",
    "The 5 objectives we want to test are 'Expected Annual Damage of Dike Ring 1', 'Dike Investment Costs of Dike Ring 1', 'Expected Number of Deaths of Dike Ring 1', 'Total Expected Number of Deaths', 'Total Expected Annual Damage'. \n",
    "Therefore we will aggregate time and location to see if scenarios score low or high on these objectives."
   ]
  },
  {
   "cell_type": "code",
   "execution_count": 87,
   "id": "d93565aa-dada-4307-86d5-e829cdb37054",
   "metadata": {},
   "outputs": [],
   "source": [
    "# Aggregate over time and location to obtain the desired shape of the outcomes\n",
    "def aggregate_df(df):\n",
    "    df_aggregate = pd.DataFrame()\n",
    "    dikerings = ['A.1', 'A.2', 'A.3', 'A.4', 'A.5']\n",
    "    timestep = ['0', '1', '2']\n",
    "    metrics = ['Expected Annual Damage', 'Dike Investment Costs', 'Expected Number of Deaths', 'RfR Total Costs', 'Expected Evacuation Costs']\n",
    "    \n",
    "    for metric in metrics:\n",
    "        if metric == \"RfR Total Costs\" or metric == \"Expected Evacuation Costs\":\n",
    "\n",
    "            columns = [metric + ' ' + time for time in timestep]\n",
    "\n",
    "            df_aggregate[metric] = df[columns].sum(axis=1)\n",
    "        else:\n",
    "            for dikering in dikerings:\n",
    "                columns = [dikering + '_' + metric + ' ' + time for time in timestep]\n",
    "\n",
    "                df_aggregate[dikering + '_' + metric] = df[columns].sum(axis=1)\n",
    "            \n",
    "            columns_locations = [dikering + '_' + metric for dikering in dikerings]\n",
    "            df_aggregate['Total ' + metric] = df_aggregate[columns_locations].sum(axis=1)\n",
    "    \n",
    " \n",
    "    return df_aggregate"
   ]
  },
  {
   "cell_type": "code",
   "execution_count": 88,
   "id": "e6115ae0-a04e-4e9e-8ddd-24233916b0b3",
   "metadata": {},
   "outputs": [],
   "source": [
    "#Choosing our objectives as the outcomes\n",
    "#Dike investment Costs of Dike Ring 1 should be zero since no policies are yet implemented in the basecase\n",
    "df_aggregate=aggregate_df(outcomes)\n",
    "outcomes_objectives = [\"A.1_Expected Annual Damage\",\"A.1_Dike Investment Costs\",\\\n",
    "                        \"A.1_Expected Number of Deaths\",\"Total Expected Number of Deaths\",\\\n",
    "                        \"Total Expected Annual Damage\"]\n",
    "df_aggregate = df_aggregate[outcomes_objectives]"
   ]
  },
  {
   "cell_type": "code",
   "execution_count": 7,
   "id": "f9a8f113-9540-4c9a-8048-b24d350631c4",
   "metadata": {},
   "outputs": [],
   "source": [
    "# #First we are going to look at the totals\n",
    "\n",
    "# # plotting the number of deaths and the damage costs (aggregated over time and location)\n",
    "# f, axes = plt.subplots(1, 2, figsize=(15,5))\n",
    "# sns.set(style=\"whitegrid\", font_scale=1.5)\n",
    "# plt.rcParams[\"axes.labelsize\"] = 15\n",
    "\n",
    "# sns.violinplot(data=df_aggregate[\"Total Expected Number of Deaths\"], ax=axes[0])\n",
    "# sns.violinplot(data=df_aggregate[\"Total Expected Annual Damage\"], ax=axes[1])\n",
    "\n",
    "# #layout of the plots\n",
    "# axes[0].set_title(\"Total Expected Number of Deaths\")\n",
    "# axes[0].set_ylabel('Number of people')\n",
    "# axes[0].set(xticklabels = [])\n",
    "\n",
    "# axes[1].set_title(\"Total Expected Annual Damage\")\n",
    "# axes[1].set_ylabel('Costs in euro (€)')\n",
    "# axes[1].set(xticklabels = [])\n",
    "\n",
    "# plt.show()"
   ]
  },
  {
   "cell_type": "markdown",
   "id": "6e4f9322-ba56-4a53-b206-8b0a34cfb509",
   "metadata": {},
   "source": [
    "We see that a number of scenarios score low Expected number of Deaths, but there are also a lot of scenarios which score high. Everything above 2 people we consider high.\n",
    "\n",
    "Looking at total annual damage, we see that there are also some low scoring scenarios but also a lot of high scoring ones. We see that at 2.5e+09 the tip of the violin starts. Let's check which percentages of scenarios score this high."
   ]
  },
  {
   "cell_type": "code",
   "execution_count": 8,
   "id": "654fedf4-27d1-495f-8825-2333692a7a66",
   "metadata": {},
   "outputs": [],
   "source": [
    "# #Check which percentage of scenarios score high on both objectives.\n",
    "\n",
    "# total= df_aggregate[\"Total Expected Number of Deaths\"].count()\n",
    "# print(\"Total number of scenarios is\", total, \"scenarios.\")\n",
    "# count_total_death = df_aggregate[\"Total Expected Number of Deaths\"][df_aggregate[\"Total Expected Number of Deaths\"]>2].count()\n",
    "# print(count_total_death, \"is\", count_total_death/total, \"% of\", total, \"scenarios score higher than 2 people\")\n",
    "# count_total_damage = df_aggregate[\"Total Expected Annual Damage\"][df_aggregate[\"Total Expected Annual Damage\"]>2500000000].count()\n",
    "# print(count_total_damage, \"is\", count_total_damage/total, \"% of\", total, \"scenarios score higher than 2.5e+09 euro's.\")"
   ]
  },
  {
   "cell_type": "markdown",
   "id": "7ddad9b4-f98e-42b8-adfd-82d21424302b",
   "metadata": {},
   "source": [
    "\n",
    "\n",
    "So a lot of scenarios are located in the top 27/30%. Let's check whether this is for each location as well, or if it differs per location.\n",
    "\n",
    "The number of deaths and annual damage for Dike Ring 1 are also objectives for our case, so that is why we are choosing to dissaggregate over location (and not time)."
   ]
  },
  {
   "cell_type": "code",
   "execution_count": 9,
   "id": "11fc585b-fe56-485b-87a7-dc5da8b65600",
   "metadata": {},
   "outputs": [],
   "source": [
    "# #Secondly, we are looking at the number of death for each location\n",
    "# #aggregated over time\n",
    "# df_location_deaths=aggregate_df(outcomes)\n",
    "# outcomes_of_interest1 = [\"A.1_Expected Number of Deaths\", \"A.2_Expected Number of Deaths\",\"A.3_Expected Number of Deaths\", \"A.4_Expected Number of Deaths\", \"A.5_Expected Number of Deaths\"]\n",
    "# df_location_deaths = df_location_deaths[outcomes_of_interest1]\n",
    "\n",
    "# f, axes = plt.subplots(1, 1, figsize=(20,8))\n",
    "# sns.set(style=\"whitegrid\", font_scale=1.5)\n",
    "\n",
    "# sns.violinplot(data=df_location_deaths, ax=axes, scale='count')\n",
    "# plt.xticks(rotation=15)\n",
    "# plt.rcParams[\"axes.labelsize\"] = 18\n",
    "\n",
    "# axes.set_title(\"Total Expected Number of Deaths per Location\")\n",
    "# axes.set_ylabel('People (#)')\n",
    "\n",
    "# #plt.savefig(\"../images/basebase_numberofdeathslocations.png\")\n",
    "# plt.show()"
   ]
  },
  {
   "cell_type": "code",
   "execution_count": 10,
   "id": "dddf3875-a39a-4167-bab0-6684c64f1d2a",
   "metadata": {},
   "outputs": [],
   "source": [
    "# #Thirdly, we are looking at the Annual Damage per location\n",
    "# #aggregated over time\n",
    "\n",
    "# df_location_damage=aggregate_df(outcomes)\n",
    "# outcomes_of_interest2 = [\"A.1_Expected Annual Damage\", \"A.2_Expected Annual Damage\",\"A.3_Expected Annual Damage\", \"A.4_Expected Annual Damage\", \"A.5_Expected Annual Damage\"]\n",
    "\n",
    "# df_location_damage = df_location_damage[outcomes_of_interest2]\n",
    "\n",
    "# f, axes = plt.subplots(1, 1, figsize=(20,8))\n",
    "# sns.set(style=\"whitegrid\", font_scale=1.5)\n",
    "\n",
    "# sns.violinplot(data=df_location_damage, ax=axes, scale='count')\n",
    "# plt.xticks(rotation=15)\n",
    "# plt.rcParams[\"axes.labelsize\"] = 18\n",
    "\n",
    "# axes.set_title(\"Total Expected Annual Damage per Location\")\n",
    "# axes.set_ylabel('Costs (€)')\n",
    "\n",
    "# #plt.savefig(\"../images/basebase_annualdamagelocations.png\")\n",
    "# plt.show()"
   ]
  },
  {
   "cell_type": "markdown",
   "id": "944450aa-2887-4f77-a4ad-f713d0c20c4a",
   "metadata": {},
   "source": [
    "We see here that in Dike Ring 1 and Dike Ring 3, there are again a lot scenarios which score high and a lot of scenarios which score low. \n",
    "\n",
    "Since 2 of our objectives are number of deaths and expected annual damage for Dike Ring 1, let's check which percentage of scenarios score high."
   ]
  },
  {
   "cell_type": "code",
   "execution_count": 11,
   "id": "be020737-7748-4d42-a478-5294883cda49",
   "metadata": {},
   "outputs": [],
   "source": [
    "# total_count= df_aggregate[\"A.1_Expected Number of Deaths\"].count()\n",
    "\n",
    "# #We look at figure \"Total Expected Number of Deaths per Location\"\n",
    "# #We see that in the first violin \"A.1_Expected Number of Deaths\" the top bulk starts around 1.5\n",
    "# #Therefore we will check which percentage is in the top bulk\n",
    "# count_death = df_aggregate[\"A.1_Expected Number of Deaths\"][df_aggregate[\"A.1_Expected Number of Deaths\"] > 1.5].count()\n",
    "# percentage_death=count_death/total_count\n",
    "\n",
    "# #We look at figure \"Total Expected Annual Damage per Location\"\n",
    "# #We see that in figure violin \"A.1_Expected Annual Damage\" the top bulk starts at around 2e+09\n",
    "# #Therefore we will check which percentage is in the top bulk\n",
    "# count_damage = df_aggregate[\"A.1_Expected Annual Damage\"][df_aggregate[\"A.1_Expected Annual Damage\"] > 2000000000].count()\n",
    "# percentage_damage=count_damage/total_count\n",
    "\n",
    "# print(\"Total amount of scenarios is\", total_count)\n",
    "# print(\"For number of deaths:\", count_death, \"scenarios score above 1.5 people, which is\", percentage_death, \"% of total scenarios\")\n",
    "# print(\"For annual damage:\", count_damage, \"scenarios score above 2e+09, which is\", percentage_damage, \"% of total scenarios\")"
   ]
  },
  {
   "cell_type": "markdown",
   "id": "9073feac-b239-4389-b398-8eb0a6324588",
   "metadata": {},
   "source": [
    "## Establishing the threshold of worst cases"
   ]
  },
  {
   "cell_type": "markdown",
   "id": "3eeefdc3-8007-4324-b7f2-22e3626f5a4a",
   "metadata": {},
   "source": [
    "Now that we understand that for A.1_Expected Number of Deaths, A.1_Expected Annual Damage, Total Number of Deaths and Total Annual Damage there are a number of scenarios which score very high. (These are 4 of our 5 objectives, A.1_Dike Investment Costs will not be considered since we are working with the base case, no policies). \n",
    "\n",
    "We call the scenarios which exceed the threshold we have established, worst case scenarios."
   ]
  },
  {
   "cell_type": "code",
   "execution_count": 89,
   "id": "a38c8a41-9498-4fec-9c62-b4b5bcdf37c3",
   "metadata": {},
   "outputs": [],
   "source": [
    "# Save the value as True or False if the value exceeds the treshold\n",
    "boolean_threshold = pd.DataFrame()\n",
    "boolean_threshold[\"Death_boolean\"] = df_aggregate[\"Total Expected Number of Deaths\"] > 2\n",
    "boolean_threshold[\"Damage_boolean\"] = df_aggregate[\"Total Expected Annual Damage\"] > 2500000000\n",
    "\n",
    "boolean_threshold[\"A.1_Death_boolean\"] = df_aggregate[\"A.1_Expected Number of Deaths\"] > 1.5\n",
    "boolean_threshold[\"A.1_Damage_boolean\"] = df_aggregate[\"A.1_Expected Annual Damage\"] > 2000000000\n",
    "\n",
    "# If both values are above the threshold than set True in worst case boolean series\n",
    "worst_cases_totals = boolean_threshold[\"Death_boolean\"] & boolean_threshold[\"Damage_boolean\"]\n",
    "#worst_cases.to_csv('../final assignment/results/boolean_worst_case_scenarios_totals.csv')\n",
    "\n",
    "worst_cases_A1 =boolean_threshold[\"A.1_Death_boolean\"]&boolean_threshold[\"A.1_Damage_boolean\"]\n",
    "#worst_cases_A1.to_csv('../final assignment/results/boolean_worst_case_scenarios_A1.csv')\n",
    "\n",
    "worst_case_scenarios=worst_cases_totals & worst_cases_A1\n",
    "#worst_case_scenarios.to_csv('../final assignment/results/boolean_worst_scenario_all.csv')"
   ]
  },
  {
   "cell_type": "code",
   "execution_count": 91,
   "id": "18a05e78-605f-4efa-90d5-f4cc7b5f400e",
   "metadata": {},
   "outputs": [],
   "source": [
    "# Since we are not using policies, we can delete all inputs about dike increases, RfR and evacuation time\n",
    "new_experiments = experiments.iloc[:,:19]"
   ]
  },
  {
   "cell_type": "code",
   "execution_count": 92,
   "id": "5f1f0491-d58f-4138-9d6f-d02682bf7299",
   "metadata": {},
   "outputs": [],
   "source": [
    "# # Execute prim algorithm for the totals objectives\n",
    "# # We select the value for the threshold by trial and error such that we get all the dimensions as output \n",
    "# prim_alg = prim.Prim(new_experiments, worst_cases_totals, threshold=0.53)\n",
    "# box1 = prim_alg.find_box()\n",
    "\n",
    "# # Show trade off plot\n",
    "# box1.show_tradeoff()\n",
    "# plt.show()"
   ]
  },
  {
   "cell_type": "code",
   "execution_count": 93,
   "id": "9b2b7fa4-e390-4db7-b3cf-ba648579ac2f",
   "metadata": {},
   "outputs": [],
   "source": [
    "# # Execute prim algorithm for the A1 cases\n",
    "# prim_alg = prim.Prim(new_experiments, worst_cases_A1, threshold=0.8)\n",
    "# box1 = prim_alg.find_box()\n",
    "\n",
    "# # Show trade off plot\n",
    "# box1.show_tradeoff()\n",
    "# plt.show()"
   ]
  },
  {
   "cell_type": "code",
   "execution_count": 94,
   "id": "7e7943a4-999a-42ff-ae7a-250e64af96d7",
   "metadata": {},
   "outputs": [],
   "source": [
    "# # Execute prim algorithm for the all the cases\n",
    "# prim_alg = prim.Prim(new_experiments, worst_case_scenarios, threshold=0.55, peel_alpha= 0.02)\n",
    "# box1 = prim_alg.find_box()\n",
    "\n",
    "# # Show trade off plot\n",
    "# box1.show_tradeoff()\n",
    "# plt.show()"
   ]
  },
  {
   "cell_type": "markdown",
   "id": "ff888d3f-75cb-4c1e-a645-7bdfd58ae9cb",
   "metadata": {},
   "source": [
    "## Min Max Values"
   ]
  },
  {
   "cell_type": "markdown",
   "id": "4893ad80-fe67-44be-a16d-2c7ecfac7c35",
   "metadata": {},
   "source": [
    "First, we need to assess the min max values under which we can perform MORDM.\n",
    "This is based on the Notebook file Minimum and maximum values."
   ]
  },
  {
   "cell_type": "code",
   "execution_count": 95,
   "id": "adb13ae3-5123-4473-b5c9-3b009a65464b",
   "metadata": {},
   "outputs": [
    {
     "name": "stderr",
     "output_type": "stream",
     "text": [
      "[MainProcess/INFO] results loaded successfully from C:\\Users\\31649\\Documents\\Master\\Model-based decisionmaking\\epa1361_open-master\\final assignment\\Fennas_run\\epa1361_open-master\\final assignment\\policies_fully_disaggregated.tar.gz\n"
     ]
    }
   ],
   "source": [
    "experiments2, outcomes2 = load_results('policies_fully_disaggregated.tar.gz') \n",
    "df2_outcomes = pd.DataFrame.from_dict(outcomes2)"
   ]
  },
  {
   "cell_type": "code",
   "execution_count": 96,
   "id": "8b3dba77-ee96-4504-bc0f-6512bec8cbd5",
   "metadata": {},
   "outputs": [],
   "source": [
    "#Choosing our objectives as the outcomes\n",
    "#Dike investment Costs of Dike Ring 1 should be zero since no policies are yet implemented in the basecase\n",
    "df2_aggregate=aggregate_df(df2_outcomes)\n",
    "outcomes_objectives = [\"A.1_Expected Annual Damage\",\"A.1_Dike Investment Costs\",\\\n",
    "                        \"A.1_Expected Number of Deaths\",\"Total Expected Number of Deaths\",\\\n",
    "                        \"Total Expected Annual Damage\"]\n",
    "df2_aggregate = df2_aggregate[outcomes_objectives]"
   ]
  },
  {
   "cell_type": "code",
   "execution_count": 97,
   "id": "617f9dab-5031-478e-94d1-9e23be27fc58",
   "metadata": {},
   "outputs": [],
   "source": [
    "max_nopol = df_aggregate.max()\n",
    "min_nopol = df_aggregate.min()\n",
    "\n",
    "max_pol = df2_aggregate.max()\n",
    "min_pol = df2_aggregate.min()"
   ]
  },
  {
   "cell_type": "code",
   "execution_count": 98,
   "id": "d906ada9-1e3e-4581-b451-91abc9bdb594",
   "metadata": {},
   "outputs": [],
   "source": [
    "max_of_range = pd.concat([max_nopol, max_pol], axis=1) #axis = 1 because we want the two options PER objective (instead of everything in one column)\n",
    "min_of_range = pd.concat([min_nopol, min_pol], axis=1)\n",
    "\n",
    "max_of_range = max_of_range.max(axis=1) #of both options, we want the highest of each objective\n",
    "min_of_range = min_of_range.min(axis=1)#of both options, we want the lowest of each objective"
   ]
  },
  {
   "cell_type": "code",
   "execution_count": 99,
   "id": "ab9cf6aa-3478-4308-89ac-66ca8cf0253d",
   "metadata": {},
   "outputs": [
    {
     "data": {
      "text/plain": [
       "(A.1_Expected Annual Damage         3.694513e+09\n",
       " A.1_Dike Investment Costs          3.753980e+08\n",
       " A.1_Expected Number of Deaths      1.834596e+00\n",
       " Total Expected Number of Deaths    5.276779e+00\n",
       " Total Expected Annual Damage       5.736794e+09\n",
       " dtype: float64,\n",
       " A.1_Expected Annual Damage         0.0\n",
       " A.1_Dike Investment Costs          0.0\n",
       " A.1_Expected Number of Deaths      0.0\n",
       " Total Expected Number of Deaths    0.0\n",
       " Total Expected Annual Damage       0.0\n",
       " dtype: float64)"
      ]
     },
     "execution_count": 99,
     "metadata": {},
     "output_type": "execute_result"
    }
   ],
   "source": [
    "max_of_range,min_of_range"
   ]
  },
  {
   "cell_type": "code",
   "execution_count": 100,
   "id": "d0874d85-8af0-41e6-b502-1e715ad26a36",
   "metadata": {},
   "outputs": [
    {
     "data": {
      "text/html": [
       "<div>\n",
       "<style scoped>\n",
       "    .dataframe tbody tr th:only-of-type {\n",
       "        vertical-align: middle;\n",
       "    }\n",
       "\n",
       "    .dataframe tbody tr th {\n",
       "        vertical-align: top;\n",
       "    }\n",
       "\n",
       "    .dataframe thead th {\n",
       "        text-align: right;\n",
       "    }\n",
       "</style>\n",
       "<table border=\"1\" class=\"dataframe\">\n",
       "  <thead>\n",
       "    <tr style=\"text-align: right;\">\n",
       "      <th></th>\n",
       "      <th>Max_values</th>\n",
       "      <th>Min_values</th>\n",
       "    </tr>\n",
       "  </thead>\n",
       "  <tbody>\n",
       "    <tr>\n",
       "      <th>A.1_Expected Annual Damage</th>\n",
       "      <td>3.694513e+09</td>\n",
       "      <td>0.0</td>\n",
       "    </tr>\n",
       "    <tr>\n",
       "      <th>A.1_Dike Investment Costs</th>\n",
       "      <td>3.753980e+08</td>\n",
       "      <td>0.0</td>\n",
       "    </tr>\n",
       "    <tr>\n",
       "      <th>A.1_Expected Number of Deaths</th>\n",
       "      <td>1.834596e+00</td>\n",
       "      <td>0.0</td>\n",
       "    </tr>\n",
       "    <tr>\n",
       "      <th>Total Expected Number of Deaths</th>\n",
       "      <td>5.276779e+00</td>\n",
       "      <td>0.0</td>\n",
       "    </tr>\n",
       "    <tr>\n",
       "      <th>Total Expected Annual Damage</th>\n",
       "      <td>5.736794e+09</td>\n",
       "      <td>0.0</td>\n",
       "    </tr>\n",
       "  </tbody>\n",
       "</table>\n",
       "</div>"
      ],
      "text/plain": [
       "                                   Max_values  Min_values\n",
       "A.1_Expected Annual Damage       3.694513e+09         0.0\n",
       "A.1_Dike Investment Costs        3.753980e+08         0.0\n",
       "A.1_Expected Number of Deaths    1.834596e+00         0.0\n",
       "Total Expected Number of Deaths  5.276779e+00         0.0\n",
       "Total Expected Annual Damage     5.736794e+09         0.0"
      ]
     },
     "execution_count": 100,
     "metadata": {},
     "output_type": "execute_result"
    }
   ],
   "source": [
    "outcome_ranges=pd.concat([max_of_range, min_of_range], axis=1)\n",
    "outcome_ranges.rename(columns = {0:'Max_values', 1:'Min_values'}, inplace = True)\n",
    "outcome_ranges"
   ]
  },
  {
   "cell_type": "code",
   "execution_count": 102,
   "id": "49579795-8101-4706-8692-3688c2a96511",
   "metadata": {},
   "outputs": [],
   "source": [
    "#outcome_ranges.to_csv(\"outcome_ranges_fenna.csv\")"
   ]
  },
  {
   "cell_type": "markdown",
   "id": "b7960017-ea24-4a14-89f3-5cc51b573dff",
   "metadata": {},
   "source": [
    "## Worst case reference scenarios"
   ]
  },
  {
   "cell_type": "markdown",
   "id": "44413772-d3a3-40bc-b5ed-1e90b4edcf80",
   "metadata": {},
   "source": [
    "In this paragraph, we will determine the 10 worst case scenarios of the base case. These worst case scenarios are based on the objectives: \"A.1_Expected Annual Damage\", \"A.1_Dike Investment Costs\", \"A.1_Expected Number of Deaths\", \"Total Expected Number of Deaths\" and \"Total Expected Annual Damage\". \n",
    "\n",
    "Again, the other objective hasn't outcomes yet, since there are no policies yet implemented.\n"
   ]
  },
  {
   "cell_type": "code",
   "execution_count": 103,
   "id": "89a997d7-9dc0-4059-981f-0447ac8701f1",
   "metadata": {},
   "outputs": [],
   "source": [
    "#The True/False dataframes we have are:\n",
    "worst_cases_totals\n",
    "worst_cases_A1\n",
    "worst_case_scenarios\n",
    "\n",
    "# Make the dataframe a list\n",
    "worst_case_list_totals = np.array(worst_cases_totals).squeeze() #using squeeze to remove the brackets\n",
    "worst_case_list_A1 = np.array(worst_cases_A1).squeeze() #using squeeze to remove the brackets\n",
    "worst_case_list= np.array(worst_case_scenarios).squeeze() #using squeeze to remove the brackets"
   ]
  },
  {
   "cell_type": "code",
   "execution_count": 104,
   "id": "c079beac-2a37-4cfb-b6bf-971680f831be",
   "metadata": {},
   "outputs": [],
   "source": [
    "# Only work with the experiments and the outcomes that are above the threshold (so the worst cases)\n",
    "experiments_above_threshold = experiments.loc[worst_case_list]\n",
    "outcomes_above_threshold = pd.DataFrame({key:value[worst_case_list] for key,value in outcomes.items()})"
   ]
  },
  {
   "cell_type": "code",
   "execution_count": 105,
   "id": "ac2c6779-0b00-455a-a0d7-3e8e53b92abd",
   "metadata": {},
   "outputs": [],
   "source": [
    "#aggretate over time, per location\n",
    "d3_aggregate_exp=aggregate_df(outcomes_above_threshold)"
   ]
  },
  {
   "cell_type": "code",
   "execution_count": 106,
   "id": "980306ce-1554-40e1-bc16-a5741f883609",
   "metadata": {},
   "outputs": [],
   "source": [
    "#Choosing our objectives as the outcomes\n",
    "#Dike investment Costs of Dike Ring 1 should be zero since no policies are yet implemented in the basecase\n",
    "df3=aggregate_df(outcomes_above_threshold)\n",
    "outcomes_objectives = [\"A.1_Expected Annual Damage\",\"A.1_Dike Investment Costs\",\\\n",
    "                        \"A.1_Expected Number of Deaths\",\"Total Expected Number of Deaths\",\\\n",
    "                        \"Total Expected Annual Damage\"]\n",
    "df3 = df3[outcomes_objectives]"
   ]
  },
  {
   "cell_type": "code",
   "execution_count": 107,
   "id": "0d8322dc-012d-4a16-9317-0f536d1d4a1c",
   "metadata": {},
   "outputs": [],
   "source": [
    "# We rank each column to find the worst cases of each column\n",
    "rank_df = pd.DataFrame()\n",
    "for column in df3.columns:\n",
    "    rank_df[column] = df3[column].rank()\n",
    "\n",
    "#To see which scenario is the worst case we have to sum up all the ranking \n",
    "rank_df['Sum ranking'] = rank_df.sum(axis=1)"
   ]
  },
  {
   "cell_type": "code",
   "execution_count": 108,
   "id": "9ffc63a3-337e-4a13-8fb3-1a274b0ebff0",
   "metadata": {},
   "outputs": [
    {
     "data": {
      "text/plain": [
       "[389, 519, 541, 335, 974]"
      ]
     },
     "execution_count": 108,
     "metadata": {},
     "output_type": "execute_result"
    }
   ],
   "source": [
    "# Then we sort the ranking dataframe to find the 10 worst case scenarios d\n",
    "df_5_worst_cases = rank_df.sort_values(by='Sum ranking',ascending=False).head(5)\n",
    "\n",
    "#Find the indexes of those scenarios (keep in mind that this is the index of the aggegrated dataframe of the experiments above the threshold)\n",
    "df_5_worst_id = list(df_5_worst_cases.index)\n",
    "df_5_worst_id"
   ]
  },
  {
   "cell_type": "code",
   "execution_count": null,
   "id": "18b61438-c33c-44cf-913d-aeeb2f32b4c6",
   "metadata": {},
   "outputs": [],
   "source": []
  },
  {
   "cell_type": "markdown",
   "id": "fecfbc62-b0f6-4624-9301-e0dcc13609ab",
   "metadata": {},
   "source": [
    "## For 2 scenarios"
   ]
  },
  {
   "cell_type": "code",
   "execution_count": 109,
   "id": "db7ccb7b-3ed5-42fc-bfcc-a90eb3b84755",
   "metadata": {},
   "outputs": [
    {
     "data": {
      "text/plain": [
       "[389, 519]"
      ]
     },
     "execution_count": 109,
     "metadata": {},
     "output_type": "execute_result"
    }
   ],
   "source": [
    "df_2worstcase=[389, 519]\n",
    "df_2worstcase"
   ]
  },
  {
   "cell_type": "code",
   "execution_count": 110,
   "id": "e7c54018-9a33-4e1d-ab9f-3fe31e0e71fc",
   "metadata": {},
   "outputs": [
    {
     "data": {
      "text/html": [
       "<div>\n",
       "<style scoped>\n",
       "    .dataframe tbody tr th:only-of-type {\n",
       "        vertical-align: middle;\n",
       "    }\n",
       "\n",
       "    .dataframe tbody tr th {\n",
       "        vertical-align: top;\n",
       "    }\n",
       "\n",
       "    .dataframe thead th {\n",
       "        text-align: right;\n",
       "    }\n",
       "</style>\n",
       "<table border=\"1\" class=\"dataframe\">\n",
       "  <thead>\n",
       "    <tr style=\"text-align: right;\">\n",
       "      <th></th>\n",
       "      <th>A.0_ID flood wave shape</th>\n",
       "      <th>A.1_Bmax</th>\n",
       "      <th>A.1_Brate</th>\n",
       "      <th>A.1_pfail</th>\n",
       "      <th>A.2_Bmax</th>\n",
       "      <th>A.2_Brate</th>\n",
       "      <th>A.2_pfail</th>\n",
       "      <th>A.3_Bmax</th>\n",
       "      <th>A.3_Brate</th>\n",
       "      <th>A.3_pfail</th>\n",
       "      <th>A.4_Bmax</th>\n",
       "      <th>A.4_Brate</th>\n",
       "      <th>A.4_pfail</th>\n",
       "      <th>A.5_Bmax</th>\n",
       "      <th>A.5_Brate</th>\n",
       "      <th>A.5_pfail</th>\n",
       "      <th>discount rate 0</th>\n",
       "      <th>discount rate 1</th>\n",
       "      <th>discount rate 2</th>\n",
       "    </tr>\n",
       "  </thead>\n",
       "  <tbody>\n",
       "    <tr>\n",
       "      <th>389</th>\n",
       "      <td>112</td>\n",
       "      <td>76.539055</td>\n",
       "      <td>1.5</td>\n",
       "      <td>0.005280</td>\n",
       "      <td>118.386904</td>\n",
       "      <td>1.0</td>\n",
       "      <td>0.359809</td>\n",
       "      <td>209.556219</td>\n",
       "      <td>1.5</td>\n",
       "      <td>0.040066</td>\n",
       "      <td>122.305318</td>\n",
       "      <td>1.5</td>\n",
       "      <td>0.823036</td>\n",
       "      <td>349.115851</td>\n",
       "      <td>1.5</td>\n",
       "      <td>0.015937</td>\n",
       "      <td>2.5</td>\n",
       "      <td>2.5</td>\n",
       "      <td>1.5</td>\n",
       "    </tr>\n",
       "    <tr>\n",
       "      <th>519</th>\n",
       "      <td>123</td>\n",
       "      <td>186.582908</td>\n",
       "      <td>1.0</td>\n",
       "      <td>0.124598</td>\n",
       "      <td>341.713134</td>\n",
       "      <td>1.5</td>\n",
       "      <td>0.814515</td>\n",
       "      <td>141.797954</td>\n",
       "      <td>1.0</td>\n",
       "      <td>0.002934</td>\n",
       "      <td>49.084925</td>\n",
       "      <td>10.0</td>\n",
       "      <td>0.504394</td>\n",
       "      <td>74.998111</td>\n",
       "      <td>10.0</td>\n",
       "      <td>0.090257</td>\n",
       "      <td>2.5</td>\n",
       "      <td>4.5</td>\n",
       "      <td>1.5</td>\n",
       "    </tr>\n",
       "  </tbody>\n",
       "</table>\n",
       "</div>"
      ],
      "text/plain": [
       "     A.0_ID flood wave shape    A.1_Bmax  A.1_Brate  A.1_pfail    A.2_Bmax  \\\n",
       "389                      112   76.539055        1.5   0.005280  118.386904   \n",
       "519                      123  186.582908        1.0   0.124598  341.713134   \n",
       "\n",
       "     A.2_Brate  A.2_pfail    A.3_Bmax  A.3_Brate  A.3_pfail    A.4_Bmax  \\\n",
       "389        1.0   0.359809  209.556219        1.5   0.040066  122.305318   \n",
       "519        1.5   0.814515  141.797954        1.0   0.002934   49.084925   \n",
       "\n",
       "     A.4_Brate  A.4_pfail    A.5_Bmax  A.5_Brate  A.5_pfail  discount rate 0  \\\n",
       "389        1.5   0.823036  349.115851        1.5   0.015937              2.5   \n",
       "519       10.0   0.504394   74.998111       10.0   0.090257              2.5   \n",
       "\n",
       "     discount rate 1  discount rate 2  \n",
       "389              2.5              1.5  \n",
       "519              4.5              1.5  "
      ]
     },
     "execution_count": 110,
     "metadata": {},
     "output_type": "execute_result"
    }
   ],
   "source": [
    "df_2wc_out=df3.loc[[389,519]]\n",
    "df_2wc_exp=experiments_above_threshold.loc[df_2worstcase,:]\n",
    "df_2wc_exp=df_2wc_exp.iloc[:, :19]\n",
    "df_2wc_exp"
   ]
  },
  {
   "cell_type": "code",
   "execution_count": 111,
   "id": "244150d6-2660-4720-a66c-1ecad718d56a",
   "metadata": {},
   "outputs": [],
   "source": [
    "scenario2 = [Scenario(f\"{index}\", **row) for index, row in df_2wc_exp.iterrows()]"
   ]
  },
  {
   "cell_type": "code",
   "execution_count": null,
   "id": "1f504c77-c668-4e37-bee1-10c1a39cf0e6",
   "metadata": {},
   "outputs": [],
   "source": []
  },
  {
   "cell_type": "markdown",
   "id": "be293534-ca2f-4db5-a1ff-30db84f30c49",
   "metadata": {},
   "source": [
    "## for 5 scenarios"
   ]
  },
  {
   "cell_type": "code",
   "execution_count": 112,
   "id": "093e7936-4e3b-47ba-a6c7-544e40327874",
   "metadata": {},
   "outputs": [
    {
     "data": {
      "text/html": [
       "<div>\n",
       "<style scoped>\n",
       "    .dataframe tbody tr th:only-of-type {\n",
       "        vertical-align: middle;\n",
       "    }\n",
       "\n",
       "    .dataframe tbody tr th {\n",
       "        vertical-align: top;\n",
       "    }\n",
       "\n",
       "    .dataframe thead th {\n",
       "        text-align: right;\n",
       "    }\n",
       "</style>\n",
       "<table border=\"1\" class=\"dataframe\">\n",
       "  <thead>\n",
       "    <tr style=\"text-align: right;\">\n",
       "      <th></th>\n",
       "      <th>A.1_Expected Annual Damage</th>\n",
       "      <th>A.1_Dike Investment Costs</th>\n",
       "      <th>A.1_Expected Number of Deaths</th>\n",
       "      <th>Total Expected Number of Deaths</th>\n",
       "      <th>Total Expected Annual Damage</th>\n",
       "    </tr>\n",
       "  </thead>\n",
       "  <tbody>\n",
       "    <tr>\n",
       "      <th>389</th>\n",
       "      <td>3.140929e+09</td>\n",
       "      <td>0</td>\n",
       "      <td>1.825323</td>\n",
       "      <td>4.980270</td>\n",
       "      <td>5.349766e+09</td>\n",
       "    </tr>\n",
       "    <tr>\n",
       "      <th>519</th>\n",
       "      <td>2.821894e+09</td>\n",
       "      <td>0</td>\n",
       "      <td>1.834596</td>\n",
       "      <td>4.806822</td>\n",
       "      <td>4.683804e+09</td>\n",
       "    </tr>\n",
       "    <tr>\n",
       "      <th>541</th>\n",
       "      <td>2.930145e+09</td>\n",
       "      <td>0</td>\n",
       "      <td>1.812074</td>\n",
       "      <td>5.109685</td>\n",
       "      <td>5.112206e+09</td>\n",
       "    </tr>\n",
       "    <tr>\n",
       "      <th>335</th>\n",
       "      <td>3.202786e+09</td>\n",
       "      <td>0</td>\n",
       "      <td>1.805946</td>\n",
       "      <td>4.352027</td>\n",
       "      <td>5.012169e+09</td>\n",
       "    </tr>\n",
       "    <tr>\n",
       "      <th>974</th>\n",
       "      <td>3.063316e+09</td>\n",
       "      <td>0</td>\n",
       "      <td>1.803056</td>\n",
       "      <td>4.836143</td>\n",
       "      <td>5.138343e+09</td>\n",
       "    </tr>\n",
       "  </tbody>\n",
       "</table>\n",
       "</div>"
      ],
      "text/plain": [
       "     A.1_Expected Annual Damage  A.1_Dike Investment Costs  \\\n",
       "389                3.140929e+09                          0   \n",
       "519                2.821894e+09                          0   \n",
       "541                2.930145e+09                          0   \n",
       "335                3.202786e+09                          0   \n",
       "974                3.063316e+09                          0   \n",
       "\n",
       "     A.1_Expected Number of Deaths  Total Expected Number of Deaths  \\\n",
       "389                       1.825323                         4.980270   \n",
       "519                       1.834596                         4.806822   \n",
       "541                       1.812074                         5.109685   \n",
       "335                       1.805946                         4.352027   \n",
       "974                       1.803056                         4.836143   \n",
       "\n",
       "     Total Expected Annual Damage  \n",
       "389                  5.349766e+09  \n",
       "519                  4.683804e+09  \n",
       "541                  5.112206e+09  \n",
       "335                  5.012169e+09  \n",
       "974                  5.138343e+09  "
      ]
     },
     "execution_count": 112,
     "metadata": {},
     "output_type": "execute_result"
    }
   ],
   "source": [
    "#find the outcomes of the worst cases\n",
    "df_scenarios_outcomes=df3.loc[[389, 519, 541, 335, 974]]\n",
    "df_scenarios_outcomes"
   ]
  },
  {
   "cell_type": "code",
   "execution_count": 113,
   "id": "d801c2e7-98a3-4f1f-b543-320e7437a9aa",
   "metadata": {},
   "outputs": [
    {
     "data": {
      "text/plain": [
       "[389, 519, 541, 335, 974]"
      ]
     },
     "execution_count": 113,
     "metadata": {},
     "output_type": "execute_result"
    }
   ],
   "source": [
    "# Finally, we want to see to which original scenarios (and therefore uncertainties) these worst cases correspond\n",
    "#these are the experiments\n",
    "scenarios_df = experiments_above_threshold.loc[df_5_worst_id,:]\n",
    "id_scenarios = scenarios_df.index.to_list()\n",
    "id_scenarios"
   ]
  },
  {
   "cell_type": "code",
   "execution_count": 114,
   "id": "bb8566ff-5004-4c70-a6e8-0cb207de3244",
   "metadata": {},
   "outputs": [
    {
     "data": {
      "text/html": [
       "<div>\n",
       "<style scoped>\n",
       "    .dataframe tbody tr th:only-of-type {\n",
       "        vertical-align: middle;\n",
       "    }\n",
       "\n",
       "    .dataframe tbody tr th {\n",
       "        vertical-align: top;\n",
       "    }\n",
       "\n",
       "    .dataframe thead th {\n",
       "        text-align: right;\n",
       "    }\n",
       "</style>\n",
       "<table border=\"1\" class=\"dataframe\">\n",
       "  <thead>\n",
       "    <tr style=\"text-align: right;\">\n",
       "      <th></th>\n",
       "      <th>A.0_ID flood wave shape</th>\n",
       "      <th>A.1_Bmax</th>\n",
       "      <th>A.1_Brate</th>\n",
       "      <th>A.1_pfail</th>\n",
       "      <th>A.2_Bmax</th>\n",
       "      <th>A.2_Brate</th>\n",
       "      <th>A.2_pfail</th>\n",
       "      <th>A.3_Bmax</th>\n",
       "      <th>A.3_Brate</th>\n",
       "      <th>A.3_pfail</th>\n",
       "      <th>A.4_Bmax</th>\n",
       "      <th>A.4_Brate</th>\n",
       "      <th>A.4_pfail</th>\n",
       "      <th>A.5_Bmax</th>\n",
       "      <th>A.5_Brate</th>\n",
       "      <th>A.5_pfail</th>\n",
       "      <th>discount rate 0</th>\n",
       "      <th>discount rate 1</th>\n",
       "      <th>discount rate 2</th>\n",
       "    </tr>\n",
       "  </thead>\n",
       "  <tbody>\n",
       "    <tr>\n",
       "      <th>389</th>\n",
       "      <td>112</td>\n",
       "      <td>76.539055</td>\n",
       "      <td>1.5</td>\n",
       "      <td>0.005280</td>\n",
       "      <td>118.386904</td>\n",
       "      <td>1.0</td>\n",
       "      <td>0.359809</td>\n",
       "      <td>209.556219</td>\n",
       "      <td>1.5</td>\n",
       "      <td>0.040066</td>\n",
       "      <td>122.305318</td>\n",
       "      <td>1.5</td>\n",
       "      <td>0.823036</td>\n",
       "      <td>349.115851</td>\n",
       "      <td>1.5</td>\n",
       "      <td>0.015937</td>\n",
       "      <td>2.5</td>\n",
       "      <td>2.5</td>\n",
       "      <td>1.5</td>\n",
       "    </tr>\n",
       "    <tr>\n",
       "      <th>519</th>\n",
       "      <td>123</td>\n",
       "      <td>186.582908</td>\n",
       "      <td>1.0</td>\n",
       "      <td>0.124598</td>\n",
       "      <td>341.713134</td>\n",
       "      <td>1.5</td>\n",
       "      <td>0.814515</td>\n",
       "      <td>141.797954</td>\n",
       "      <td>1.0</td>\n",
       "      <td>0.002934</td>\n",
       "      <td>49.084925</td>\n",
       "      <td>10.0</td>\n",
       "      <td>0.504394</td>\n",
       "      <td>74.998111</td>\n",
       "      <td>10.0</td>\n",
       "      <td>0.090257</td>\n",
       "      <td>2.5</td>\n",
       "      <td>4.5</td>\n",
       "      <td>1.5</td>\n",
       "    </tr>\n",
       "    <tr>\n",
       "      <th>541</th>\n",
       "      <td>121</td>\n",
       "      <td>44.976172</td>\n",
       "      <td>1.0</td>\n",
       "      <td>0.154180</td>\n",
       "      <td>315.527619</td>\n",
       "      <td>10.0</td>\n",
       "      <td>0.278339</td>\n",
       "      <td>320.949897</td>\n",
       "      <td>1.0</td>\n",
       "      <td>0.028642</td>\n",
       "      <td>126.594441</td>\n",
       "      <td>1.5</td>\n",
       "      <td>0.999996</td>\n",
       "      <td>246.041200</td>\n",
       "      <td>1.0</td>\n",
       "      <td>0.526665</td>\n",
       "      <td>3.5</td>\n",
       "      <td>2.5</td>\n",
       "      <td>1.5</td>\n",
       "    </tr>\n",
       "    <tr>\n",
       "      <th>335</th>\n",
       "      <td>127</td>\n",
       "      <td>98.612264</td>\n",
       "      <td>1.5</td>\n",
       "      <td>0.304277</td>\n",
       "      <td>49.174700</td>\n",
       "      <td>1.5</td>\n",
       "      <td>0.582915</td>\n",
       "      <td>76.144141</td>\n",
       "      <td>1.5</td>\n",
       "      <td>0.119453</td>\n",
       "      <td>234.760282</td>\n",
       "      <td>1.0</td>\n",
       "      <td>0.652885</td>\n",
       "      <td>178.009828</td>\n",
       "      <td>1.0</td>\n",
       "      <td>0.789073</td>\n",
       "      <td>3.5</td>\n",
       "      <td>1.5</td>\n",
       "      <td>1.5</td>\n",
       "    </tr>\n",
       "    <tr>\n",
       "      <th>974</th>\n",
       "      <td>15</td>\n",
       "      <td>116.453125</td>\n",
       "      <td>1.5</td>\n",
       "      <td>0.330338</td>\n",
       "      <td>191.666985</td>\n",
       "      <td>10.0</td>\n",
       "      <td>0.674579</td>\n",
       "      <td>308.936390</td>\n",
       "      <td>1.5</td>\n",
       "      <td>0.064977</td>\n",
       "      <td>51.506522</td>\n",
       "      <td>1.5</td>\n",
       "      <td>0.499539</td>\n",
       "      <td>211.661021</td>\n",
       "      <td>1.0</td>\n",
       "      <td>0.050274</td>\n",
       "      <td>1.5</td>\n",
       "      <td>1.5</td>\n",
       "      <td>4.5</td>\n",
       "    </tr>\n",
       "  </tbody>\n",
       "</table>\n",
       "</div>"
      ],
      "text/plain": [
       "     A.0_ID flood wave shape    A.1_Bmax  A.1_Brate  A.1_pfail    A.2_Bmax  \\\n",
       "389                      112   76.539055        1.5   0.005280  118.386904   \n",
       "519                      123  186.582908        1.0   0.124598  341.713134   \n",
       "541                      121   44.976172        1.0   0.154180  315.527619   \n",
       "335                      127   98.612264        1.5   0.304277   49.174700   \n",
       "974                       15  116.453125        1.5   0.330338  191.666985   \n",
       "\n",
       "     A.2_Brate  A.2_pfail    A.3_Bmax  A.3_Brate  A.3_pfail    A.4_Bmax  \\\n",
       "389        1.0   0.359809  209.556219        1.5   0.040066  122.305318   \n",
       "519        1.5   0.814515  141.797954        1.0   0.002934   49.084925   \n",
       "541       10.0   0.278339  320.949897        1.0   0.028642  126.594441   \n",
       "335        1.5   0.582915   76.144141        1.5   0.119453  234.760282   \n",
       "974       10.0   0.674579  308.936390        1.5   0.064977   51.506522   \n",
       "\n",
       "     A.4_Brate  A.4_pfail    A.5_Bmax  A.5_Brate  A.5_pfail  discount rate 0  \\\n",
       "389        1.5   0.823036  349.115851        1.5   0.015937              2.5   \n",
       "519       10.0   0.504394   74.998111       10.0   0.090257              2.5   \n",
       "541        1.5   0.999996  246.041200        1.0   0.526665              3.5   \n",
       "335        1.0   0.652885  178.009828        1.0   0.789073              3.5   \n",
       "974        1.5   0.499539  211.661021        1.0   0.050274              1.5   \n",
       "\n",
       "     discount rate 1  discount rate 2  \n",
       "389              2.5              1.5  \n",
       "519              4.5              1.5  \n",
       "541              2.5              1.5  \n",
       "335              1.5              1.5  \n",
       "974              1.5              4.5  "
      ]
     },
     "execution_count": 114,
     "metadata": {},
     "output_type": "execute_result"
    }
   ],
   "source": [
    "#We only want the first 19 columns of the experiment dataframe (these are the uncertainties)\n",
    "df_scenarios_experiments=scenarios_df.iloc[:, :19]\n",
    "df_scenarios_experiments"
   ]
  },
  {
   "cell_type": "code",
   "execution_count": 115,
   "id": "cda9db07-f1de-4c62-b804-b80233647ae2",
   "metadata": {},
   "outputs": [],
   "source": [
    "# Specify the scenarios in the workbench\n",
    "scenarios = [Scenario(f\"{index}\", **row) for index, row in df_scenarios_experiments.iterrows()]"
   ]
  },
  {
   "cell_type": "markdown",
   "id": "b577a2c9-9bfa-40c9-b729-1b72eccfcdc9",
   "metadata": {},
   "source": [
    "## Execute MORDM for worst case scenarios"
   ]
  },
  {
   "cell_type": "code",
   "execution_count": 116,
   "id": "8e4b886a-43e6-4a55-a124-df4ae1bf9bb6",
   "metadata": {},
   "outputs": [
    {
     "data": {
      "text/html": [
       "<div>\n",
       "<style scoped>\n",
       "    .dataframe tbody tr th:only-of-type {\n",
       "        vertical-align: middle;\n",
       "    }\n",
       "\n",
       "    .dataframe tbody tr th {\n",
       "        vertical-align: top;\n",
       "    }\n",
       "\n",
       "    .dataframe thead th {\n",
       "        text-align: right;\n",
       "    }\n",
       "</style>\n",
       "<table border=\"1\" class=\"dataframe\">\n",
       "  <thead>\n",
       "    <tr style=\"text-align: right;\">\n",
       "      <th></th>\n",
       "      <th>Max_values</th>\n",
       "      <th>Min_values</th>\n",
       "    </tr>\n",
       "  </thead>\n",
       "  <tbody>\n",
       "    <tr>\n",
       "      <th>A.1_Expected Annual Damage</th>\n",
       "      <td>3.694513e+09</td>\n",
       "      <td>0.0</td>\n",
       "    </tr>\n",
       "    <tr>\n",
       "      <th>A.1_Dike Investment Costs</th>\n",
       "      <td>3.753980e+08</td>\n",
       "      <td>0.0</td>\n",
       "    </tr>\n",
       "    <tr>\n",
       "      <th>A.1_Expected Number of Deaths</th>\n",
       "      <td>1.834596e+00</td>\n",
       "      <td>0.0</td>\n",
       "    </tr>\n",
       "    <tr>\n",
       "      <th>Total Expected Number of Deaths</th>\n",
       "      <td>5.276779e+00</td>\n",
       "      <td>0.0</td>\n",
       "    </tr>\n",
       "    <tr>\n",
       "      <th>Total Expected Annual Damage</th>\n",
       "      <td>5.736794e+09</td>\n",
       "      <td>0.0</td>\n",
       "    </tr>\n",
       "  </tbody>\n",
       "</table>\n",
       "</div>"
      ],
      "text/plain": [
       "                                   Max_values  Min_values\n",
       "A.1_Expected Annual Damage       3.694513e+09         0.0\n",
       "A.1_Dike Investment Costs        3.753980e+08         0.0\n",
       "A.1_Expected Number of Deaths    1.834596e+00         0.0\n",
       "Total Expected Number of Deaths  5.276779e+00         0.0\n",
       "Total Expected Annual Damage     5.736794e+09         0.0"
      ]
     },
     "execution_count": 116,
     "metadata": {},
     "output_type": "execute_result"
    }
   ],
   "source": [
    "outcome_ranges"
   ]
  },
  {
   "cell_type": "code",
   "execution_count": 117,
   "id": "e442d535-f435-4729-9a3c-587c4d4c5813",
   "metadata": {},
   "outputs": [],
   "source": [
    "from dike_model_function import DikeNetwork  # @UnresolvedImport\n",
    "from problem_formulation import get_model_for_problem_formulation\n",
    "dike_model, planning_steps = get_model_for_problem_formulation(0)\n",
    "\n",
    "# Build a user-defined scenario and policy:\n",
    "reference_values = {'Bmax': 175, 'Brate': 1.5, 'pfail': 0.5,\n",
    "                        'ID flood wave shape': 4, 'planning steps': 2}\n",
    "reference_values.update({'discount rate {}'.format(n): 3.5 for n in planning_steps})\n",
    "scen1 = {}\n",
    "\n",
    "for key in dike_model.uncertainties:\n",
    "    name_split = key.name.split('_')\n",
    "\n",
    "    if len(name_split) == 1:\n",
    "        scen1.update({key.name: reference_values[key.name]})\n",
    "\n",
    "    else:\n",
    "        scen1.update({key.name: reference_values[name_split[1]]})\n",
    "\n",
    "ref_scenario = Scenario('reference', **scen1)"
   ]
  },
  {
   "cell_type": "code",
   "execution_count": 118,
   "id": "3fd918c1-b8e2-476d-af2a-9c32d4a99a5b",
   "metadata": {},
   "outputs": [],
   "source": [
    "from problem_formulation_modified1 import get_model_for_problem_formulation_modified"
   ]
  },
  {
   "cell_type": "code",
   "execution_count": 119,
   "id": "e469fd1a-1c28-4ceb-bad1-060f8d97f2da",
   "metadata": {},
   "outputs": [
    {
     "data": {
      "text/plain": [
       "<Logger EMA (DEBUG)>"
      ]
     },
     "execution_count": 119,
     "metadata": {},
     "output_type": "execute_result"
    }
   ],
   "source": [
    "dike_model,  planning_steps = get_model_for_problem_formulation_modified(outcome_ranges)\n",
    "ema_logging.log_to_stderr(ema_logging.INFO)"
   ]
  },
  {
   "cell_type": "code",
   "execution_count": 120,
   "id": "e987f1c2-4693-458b-9695-bb9f24620ff1",
   "metadata": {},
   "outputs": [],
   "source": [
    "import pandas as pd\n",
    "import numpy as np\n",
    "\n",
    "import matplotlib.pyplot as plt\n",
    "import seaborn as sns\n",
    "\n",
    "from ema_workbench import load_results\n",
    "from ema_workbench.em_framework.evaluators import perform_experiments\n",
    "from ema_workbench.em_framework.samplers import sample_uncertainties\n",
    "from ema_workbench.util import ema_logging\n",
    "from ema_workbench.em_framework.optimization import (HyperVolume, EpsilonProgress)\n",
    "from ema_workbench import (Model, CategoricalParameter,\n",
    "                           ScalarOutcome, IntegerParameter, RealParameter)\n",
    "from ema_workbench import (Model, MultiprocessingEvaluator, SequentialEvaluator,\n",
    "                           Constraint, Policy, Scenario)\n",
    "\n",
    "from problem_formulation import get_model_for_problem_formulation\n",
    "\n",
    "import time\n"
   ]
  },
  {
   "cell_type": "markdown",
   "id": "3d3fe368-6e7e-4daa-98ed-f87898a8a087",
   "metadata": {},
   "source": [
    "### Code option number 1"
   ]
  },
  {
   "cell_type": "code",
   "execution_count": 121,
   "id": "88539263-5180-4e02-ae00-1f74a3ba7520",
   "metadata": {},
   "outputs": [
    {
     "data": {
      "text/html": [
       "<div>\n",
       "<style scoped>\n",
       "    .dataframe tbody tr th:only-of-type {\n",
       "        vertical-align: middle;\n",
       "    }\n",
       "\n",
       "    .dataframe tbody tr th {\n",
       "        vertical-align: top;\n",
       "    }\n",
       "\n",
       "    .dataframe thead th {\n",
       "        text-align: right;\n",
       "    }\n",
       "</style>\n",
       "<table border=\"1\" class=\"dataframe\">\n",
       "  <thead>\n",
       "    <tr style=\"text-align: right;\">\n",
       "      <th></th>\n",
       "      <th>Total Expected Annual Damage</th>\n",
       "      <th>Total Expected Number of Deaths</th>\n",
       "      <th>A.1_Expected Annual Damage</th>\n",
       "      <th>A.1_Dike Investment Costs</th>\n",
       "      <th>A.1_Expected Number of Deaths</th>\n",
       "    </tr>\n",
       "  </thead>\n",
       "  <tbody>\n",
       "    <tr>\n",
       "      <th>0</th>\n",
       "      <td>6.640217e+07</td>\n",
       "      <td>0.006540</td>\n",
       "      <td>0.000000e+00</td>\n",
       "      <td>2.006358e+08</td>\n",
       "      <td>0.000000</td>\n",
       "    </tr>\n",
       "    <tr>\n",
       "      <th>1</th>\n",
       "      <td>1.431763e+08</td>\n",
       "      <td>0.020768</td>\n",
       "      <td>0.000000e+00</td>\n",
       "      <td>2.006358e+08</td>\n",
       "      <td>0.000000</td>\n",
       "    </tr>\n",
       "    <tr>\n",
       "      <th>2</th>\n",
       "      <td>5.264942e+07</td>\n",
       "      <td>0.005515</td>\n",
       "      <td>0.000000e+00</td>\n",
       "      <td>2.006358e+08</td>\n",
       "      <td>0.000000</td>\n",
       "    </tr>\n",
       "    <tr>\n",
       "      <th>3</th>\n",
       "      <td>2.574227e+07</td>\n",
       "      <td>0.003705</td>\n",
       "      <td>0.000000e+00</td>\n",
       "      <td>2.006358e+08</td>\n",
       "      <td>0.000000</td>\n",
       "    </tr>\n",
       "    <tr>\n",
       "      <th>4</th>\n",
       "      <td>5.248435e+08</td>\n",
       "      <td>0.056785</td>\n",
       "      <td>0.000000e+00</td>\n",
       "      <td>2.006358e+08</td>\n",
       "      <td>0.000000</td>\n",
       "    </tr>\n",
       "    <tr>\n",
       "      <th>...</th>\n",
       "      <td>...</td>\n",
       "      <td>...</td>\n",
       "      <td>...</td>\n",
       "      <td>...</td>\n",
       "      <td>...</td>\n",
       "    </tr>\n",
       "    <tr>\n",
       "      <th>39995</th>\n",
       "      <td>1.287416e+06</td>\n",
       "      <td>0.000276</td>\n",
       "      <td>0.000000e+00</td>\n",
       "      <td>1.351227e+08</td>\n",
       "      <td>0.000000</td>\n",
       "    </tr>\n",
       "    <tr>\n",
       "      <th>39996</th>\n",
       "      <td>3.102785e+05</td>\n",
       "      <td>0.000044</td>\n",
       "      <td>0.000000e+00</td>\n",
       "      <td>1.351227e+08</td>\n",
       "      <td>0.000000</td>\n",
       "    </tr>\n",
       "    <tr>\n",
       "      <th>39997</th>\n",
       "      <td>4.155308e+05</td>\n",
       "      <td>0.000039</td>\n",
       "      <td>0.000000e+00</td>\n",
       "      <td>1.351227e+08</td>\n",
       "      <td>0.000000</td>\n",
       "    </tr>\n",
       "    <tr>\n",
       "      <th>39998</th>\n",
       "      <td>6.111999e+08</td>\n",
       "      <td>0.087021</td>\n",
       "      <td>6.111999e+08</td>\n",
       "      <td>1.351227e+08</td>\n",
       "      <td>0.087021</td>\n",
       "    </tr>\n",
       "    <tr>\n",
       "      <th>39999</th>\n",
       "      <td>0.000000e+00</td>\n",
       "      <td>0.000000</td>\n",
       "      <td>0.000000e+00</td>\n",
       "      <td>1.351227e+08</td>\n",
       "      <td>0.000000</td>\n",
       "    </tr>\n",
       "  </tbody>\n",
       "</table>\n",
       "<p>40000 rows × 5 columns</p>\n",
       "</div>"
      ],
      "text/plain": [
       "       Total Expected Annual Damage  Total Expected Number of Deaths  \\\n",
       "0                      6.640217e+07                         0.006540   \n",
       "1                      1.431763e+08                         0.020768   \n",
       "2                      5.264942e+07                         0.005515   \n",
       "3                      2.574227e+07                         0.003705   \n",
       "4                      5.248435e+08                         0.056785   \n",
       "...                             ...                              ...   \n",
       "39995                  1.287416e+06                         0.000276   \n",
       "39996                  3.102785e+05                         0.000044   \n",
       "39997                  4.155308e+05                         0.000039   \n",
       "39998                  6.111999e+08                         0.087021   \n",
       "39999                  0.000000e+00                         0.000000   \n",
       "\n",
       "       A.1_Expected Annual Damage  A.1_Dike Investment Costs  \\\n",
       "0                    0.000000e+00               2.006358e+08   \n",
       "1                    0.000000e+00               2.006358e+08   \n",
       "2                    0.000000e+00               2.006358e+08   \n",
       "3                    0.000000e+00               2.006358e+08   \n",
       "4                    0.000000e+00               2.006358e+08   \n",
       "...                           ...                        ...   \n",
       "39995                0.000000e+00               1.351227e+08   \n",
       "39996                0.000000e+00               1.351227e+08   \n",
       "39997                0.000000e+00               1.351227e+08   \n",
       "39998                6.111999e+08               1.351227e+08   \n",
       "39999                0.000000e+00               1.351227e+08   \n",
       "\n",
       "       A.1_Expected Number of Deaths  \n",
       "0                           0.000000  \n",
       "1                           0.000000  \n",
       "2                           0.000000  \n",
       "3                           0.000000  \n",
       "4                           0.000000  \n",
       "...                              ...  \n",
       "39995                       0.000000  \n",
       "39996                       0.000000  \n",
       "39997                       0.000000  \n",
       "39998                       0.087021  \n",
       "39999                       0.000000  \n",
       "\n",
       "[40000 rows x 5 columns]"
      ]
     },
     "execution_count": 121,
     "metadata": {},
     "output_type": "execute_result"
    }
   ],
   "source": [
    "#Choosing our objectives as the outcomes\n",
    "#Dike investment Costs of Dike Ring 1 should be zero since no policies are yet implemented in the basecase\n",
    "df3_aggregate=aggregate_df(df2_outcomes)\n",
    "outcomes_objectives = [\"Total Expected Annual Damage\",\"Total Expected Number of Deaths\",\"A.1_Expected Annual Damage\",\"A.1_Dike Investment Costs\",\\\n",
    "                        \"A.1_Expected Number of Deaths\"]\n",
    "df3_aggregate = df3_aggregate[outcomes_objectives]\n",
    "df3_aggregate"
   ]
  },
  {
   "cell_type": "code",
   "execution_count": 122,
   "id": "b80956ca-681e-44f4-a7fa-dc6a8163aad7",
   "metadata": {},
   "outputs": [],
   "source": [
    "#Define the values for epsilon\n",
    "list_epsilons=[]\n",
    "for column in df3_aggregate.columns:\n",
    "    new_df = df3_aggregate[df3_aggregate[column] >0]\n",
    "    epsilon=min(new_df[column])\n",
    "    list_epsilons.append(epsilon)"
   ]
  },
  {
   "cell_type": "code",
   "execution_count": 123,
   "id": "f76e427b-f2df-4bb5-baf8-09ab710dc045",
   "metadata": {},
   "outputs": [
    {
     "data": {
      "text/plain": [
       "[51545.63341453237,\n",
       " 3.942122931196812e-06,\n",
       " 425513.8617408112,\n",
       " 82486364.23710208,\n",
       " 4.8454387049822016e-05]"
      ]
     },
     "execution_count": 123,
     "metadata": {},
     "output_type": "execute_result"
    }
   ],
   "source": [
    "list_epsilons"
   ]
  },
  {
   "cell_type": "code",
   "execution_count": null,
   "id": "74372c6b-3ecc-408a-b73d-5abac4a6c2e2",
   "metadata": {},
   "outputs": [],
   "source": [
    "list_of_epsilons = [51545.63341453237, 3.942122931196812e-06,\n",
    " 425513.8617408112,\n",
    " 82486364.23710208,\n",
    " 4.8454387049822016e-05]"
   ]
  },
  {
   "cell_type": "code",
   "execution_count": 124,
   "id": "60de29d7-8819-4c7e-b130-729899b00cd5",
   "metadata": {},
   "outputs": [],
   "source": [
    "deaths = ['Expected Number of Deaths']\n",
    "\n",
    "max_num_deaths = 0.0001 * 3 * 5\n",
    "\n",
    "# Adding the constraint for the allowed maximum number of deaths defined by the Delta Commission. By setting this as a constraint, the optimization will not\n",
    "# return policies that do not meet this criterion.\n",
    "constraints = [Constraint(\"Max number of deaths\", outcome_names=deaths,\n",
    "                          function=lambda x:max(0, x-max_num_deaths))]"
   ]
  },
  {
   "cell_type": "code",
   "execution_count": null,
   "id": "2e8ededb-7e28-4f29-ba4e-16745c0aeca3",
   "metadata": {},
   "outputs": [],
   "source": []
  },
  {
   "cell_type": "code",
   "execution_count": null,
   "id": "bf8f60fd-8042-499f-a1e1-c3b789a90aac",
   "metadata": {},
   "outputs": [],
   "source": []
  },
  {
   "cell_type": "code",
   "execution_count": null,
   "id": "ae071357-13d9-4154-984d-21543ffc9ed6",
   "metadata": {},
   "outputs": [],
   "source": []
  },
  {
   "cell_type": "code",
   "execution_count": null,
   "id": "9da3bf42-9fa9-46d3-97c6-b8f17ea358ef",
   "metadata": {},
   "outputs": [],
   "source": []
  },
  {
   "cell_type": "code",
   "execution_count": null,
   "id": "72f41341-c130-45e4-809f-9c953b2b8f06",
   "metadata": {},
   "outputs": [],
   "source": []
  },
  {
   "cell_type": "code",
   "execution_count": null,
   "id": "5b4b30b6-89e7-4771-bb78-3c8bea27a92a",
   "metadata": {},
   "outputs": [],
   "source": []
  },
  {
   "cell_type": "markdown",
   "id": "e8595492-e4ad-4d87-8583-117ca9bcd985",
   "metadata": {},
   "source": [
    "# Dorris!"
   ]
  },
  {
   "cell_type": "markdown",
   "id": "cbabf71f-1e4e-449d-97c1-c2a652c20763",
   "metadata": {},
   "source": [
    "## For 5 scenarios (official one)"
   ]
  },
  {
   "cell_type": "code",
   "execution_count": 125,
   "id": "8c4c0a92-343f-46f9-bea2-88a3b197dade",
   "metadata": {},
   "outputs": [
    {
     "name": "stderr",
     "output_type": "stream",
     "text": [
      "[MainProcess/INFO] pool started with 8 workers\n",
      "100it [00:34,  2.87it/s]                                                       \n",
      "[MainProcess/INFO] optimization completed, found 13 solutions\n",
      "[MainProcess/INFO] terminating pool\n",
      "[MainProcess/INFO] pool started with 8 workers\n",
      "100it [00:35,  2.80it/s]                                                       \n",
      "[MainProcess/INFO] optimization completed, found 9 solutions\n",
      "[MainProcess/INFO] terminating pool\n",
      "[MainProcess/INFO] pool started with 8 workers\n",
      "100it [00:36,  2.72it/s]                                                       \n",
      "[MainProcess/INFO] optimization completed, found 8 solutions\n",
      "[MainProcess/INFO] terminating pool\n",
      "[MainProcess/INFO] pool started with 8 workers\n",
      "100it [00:39,  2.55it/s]                                                       \n",
      "[MainProcess/INFO] optimization completed, found 5 solutions\n",
      "[MainProcess/INFO] terminating pool\n",
      "[MainProcess/INFO] pool started with 8 workers\n",
      "100it [00:33,  2.95it/s]                                                       \n",
      "[MainProcess/INFO] optimization completed, found 6 solutions\n",
      "[MainProcess/INFO] terminating pool\n"
     ]
    }
   ],
   "source": [
    "ema_logging.log_to_stderr(ema_logging.INFO)\n",
    "\n",
    "# The Hypervolume space has already been defined in the get_problem_formulation_altered function\n",
    "convergence_metrics = [HyperVolume.from_outcomes(dike_model.outcomes),\n",
    "                       EpsilonProgress()]\n",
    "\n",
    "nfe = 5000\n",
    "results_deep = []\n",
    "convergence_all = []\n",
    "\n",
    "for scenario in scenarios:\n",
    "    with MultiprocessingEvaluator(dike_model) as evaluator:\n",
    "        results_runs, convergence = evaluator.optimize(nfe=nfe, searchover='levers',\n",
    "                                        epsilons=list_epsilons,\n",
    "                                        convergence=convergence_metrics, reference=scenario)\n",
    "                                        \n",
    "               \n",
    "        results_deep.append(results_runs)\n",
    "        convergence_all.append(convergence)"
   ]
  },
  {
   "cell_type": "code",
   "execution_count": 57,
   "id": "b8448d78-1539-4606-a861-ab237ccd26b3",
   "metadata": {},
   "outputs": [
    {
     "name": "stderr",
     "output_type": "stream",
     "text": [
      "[MainProcess/INFO] pool started with 8 workers\n",
      "100it [00:33,  2.95it/s]                                                       \n",
      "[MainProcess/INFO] optimization completed, found 4 solutions\n",
      "[MainProcess/INFO] terminating pool\n",
      "[MainProcess/INFO] pool started with 8 workers\n",
      "100it [00:33,  2.97it/s]                                                       \n",
      "[MainProcess/INFO] optimization completed, found 3 solutions\n",
      "[MainProcess/INFO] terminating pool\n",
      "[MainProcess/INFO] pool started with 8 workers\n",
      "100it [00:33,  2.96it/s]                                                       \n",
      "[MainProcess/INFO] optimization completed, found 2 solutions\n",
      "[MainProcess/INFO] terminating pool\n",
      "[MainProcess/INFO] pool started with 8 workers\n",
      "100it [00:33,  2.94it/s]                                                       \n",
      "[MainProcess/INFO] optimization completed, found 3 solutions\n",
      "[MainProcess/INFO] terminating pool\n",
      "[MainProcess/INFO] pool started with 8 workers\n",
      "100it [00:33,  2.99it/s]                                                       \n",
      "[MainProcess/INFO] optimization completed, found 3 solutions\n",
      "[MainProcess/INFO] terminating pool\n"
     ]
    }
   ],
   "source": [
    "ema_logging.log_to_stderr(ema_logging.INFO)\n",
    "\n",
    "# The Hypervolume space has already been defined in the get_problem_formulation_altered function\n",
    "convergence_metrics = [HyperVolume.from_outcomes(dike_model.outcomes),\n",
    "                       EpsilonProgress()]\n",
    "\n",
    "nfe = 50\n",
    "results_deep = []\n",
    "convergence_all = []\n",
    "\n",
    "for scenario in scenarios:\n",
    "    with MultiprocessingEvaluator(dike_model) as evaluator:\n",
    "        results_runs, convergence = evaluator.optimize(nfe=nfe, searchover='levers',\n",
    "                                        epsilons=list_epsilons,\n",
    "                                        convergence=convergence_metrics, reference=scenario, constraints=constraints)\n",
    "                                        \n",
    "               \n",
    "        results_deep.append(results_runs)\n",
    "        convergence_all.append(convergence)"
   ]
  },
  {
   "cell_type": "code",
   "execution_count": 60,
   "id": "d3db020b-587d-4edd-b8b8-ae329167a0b3",
   "metadata": {},
   "outputs": [
    {
     "name": "stderr",
     "output_type": "stream",
     "text": [
      "[MainProcess/INFO] pool started with 8 workers\n",
      "100it [00:35,  2.81it/s]                                                       \n",
      "[MainProcess/INFO] optimization completed, found 3 solutions\n",
      "[MainProcess/INFO] terminating pool\n",
      "[MainProcess/INFO] pool started with 8 workers\n",
      "100it [00:33,  2.98it/s]                                                       \n",
      "[MainProcess/INFO] optimization completed, found 1 solutions\n",
      "[MainProcess/INFO] terminating pool\n",
      "[MainProcess/INFO] pool started with 8 workers\n",
      "100it [00:33,  2.96it/s]                                                       \n",
      "[MainProcess/INFO] optimization completed, found 2 solutions\n",
      "[MainProcess/INFO] terminating pool\n",
      "[MainProcess/INFO] pool started with 8 workers\n",
      "100it [00:33,  2.97it/s]                                                       \n",
      "[MainProcess/INFO] optimization completed, found 3 solutions\n",
      "[MainProcess/INFO] terminating pool\n",
      "[MainProcess/INFO] pool started with 8 workers\n",
      "100it [00:35,  2.85it/s]                                                       \n",
      "[MainProcess/INFO] optimization completed, found 1 solutions\n",
      "[MainProcess/INFO] terminating pool\n"
     ]
    }
   ],
   "source": [
    "ema_logging.log_to_stderr(ema_logging.INFO)\n",
    "\n",
    "# The Hypervolume space has already been defined in the get_problem_formulation_altered function\n",
    "convergence_metrics = [HyperVolume.from_outcomes(dike_model.outcomes),\n",
    "                       EpsilonProgress()]\n",
    "\n",
    "nfe = 50\n",
    "results_deep_test = []\n",
    "convergence_all_test = []\n",
    "\n",
    "for scenario in scenarios:\n",
    "    with MultiprocessingEvaluator(dike_model) as evaluator:\n",
    "        results_runs_test, convergence = evaluator.optimize(nfe=nfe, searchover='levers',\n",
    "                                        epsilons=[51545000,0.0003, 4255130, 82486364, 0.00001],\n",
    "                                        convergence=convergence_metrics, reference=scenario, constraints=constraints)\n",
    "                                        \n",
    "               \n",
    "        results_deep_test.append(results_runs)\n",
    "        convergence_all_test.append(convergence)"
   ]
  },
  {
   "cell_type": "code",
   "execution_count": 69,
   "id": "b0008b31-3027-4636-9a57-e32d81a47f30",
   "metadata": {},
   "outputs": [],
   "source": [
    "#include your name!\n",
    "\n",
    "\n",
    "import pickle\n",
    "l = results_deep\n",
    "with open(\"results_deep_pickle\", \"wb\") as fp:   #Pickling\n",
    "    pickle.dump(l, fp)\n",
    " \n",
    "with open(\"results_deep_pickle\", \"rb\") as fp:   # Unpickling\n",
    "    results_deep_list = pickle.load(fp)"
   ]
  },
  {
   "cell_type": "code",
   "execution_count": 70,
   "id": "fe100190-9cff-494a-8499-8c92f88713ea",
   "metadata": {},
   "outputs": [],
   "source": [
    "#include your name!\n",
    "\n",
    "\n",
    "import pickle\n",
    "n = convergence_all\n",
    "with open(\"results_convergence_all\", \"wb\") as fp:   #Pickling\n",
    "    pickle.dump(n, fp)\n",
    " \n",
    "with open(\"results_convergence_all\", \"rb\") as fp:   # Unpickling\n",
    "    convergence_all_list = pickle.load(fp)"
   ]
  },
  {
   "cell_type": "code",
   "execution_count": null,
   "id": "4f60cd6d-9daf-4b73-92a7-3329e9217e59",
   "metadata": {},
   "outputs": [],
   "source": []
  },
  {
   "cell_type": "code",
   "execution_count": null,
   "id": "0796208c-c53a-4d0c-b114-7976d7a3648b",
   "metadata": {},
   "outputs": [],
   "source": []
  },
  {
   "cell_type": "markdown",
   "id": "7855a7d9-ddd5-468f-aa85-673de3dbd78c",
   "metadata": {},
   "source": [
    "## For 2 scenarios (can be used as a test)"
   ]
  },
  {
   "cell_type": "code",
   "execution_count": 51,
   "id": "a4ad563f-5cef-41de-b946-8898c0c447e6",
   "metadata": {},
   "outputs": [
    {
     "name": "stderr",
     "output_type": "stream",
     "text": [
      "[MainProcess/INFO] pool started with 8 workers\n",
      "100it [00:35,  2.84it/s]                                                       \n",
      "[MainProcess/INFO] optimization completed, found 4 solutions\n",
      "[MainProcess/INFO] terminating pool\n",
      "[MainProcess/INFO] pool started with 8 workers\n",
      "100it [00:34,  2.94it/s]                                                       \n",
      "[MainProcess/INFO] optimization completed, found 1 solutions\n",
      "[MainProcess/INFO] terminating pool\n"
     ]
    }
   ],
   "source": [
    "# ema_logging.log_to_stderr(ema_logging.INFO)\n",
    "\n",
    "# # The Hypervolume space has already been defined in the get_problem_formulation_altered function\n",
    "# convergence_metrics = [HyperVolume.from_outcomes(dike_model.outcomes),\n",
    "#                        EpsilonProgress()]\n",
    "\n",
    "# nfe = 20\n",
    "# results_deep2 = []\n",
    "# convergence_all2 = []\n",
    "\n",
    "# for scenario in scenario2:\n",
    "#     with MultiprocessingEvaluator(dike_model) as evaluator:\n",
    "#         results_runs, convergence = evaluator.optimize(nfe=nfe, searchover='levers',\n",
    "#                                         epsilons=list_epsilons,\n",
    "#                                         convergence=convergence_metrics, reference=scenario, constraints=constraints)\n",
    "                                        \n",
    "               \n",
    "#         results_deep2.append(results_runs)\n",
    "#         convergence_all2.append(convergence)"
   ]
  },
  {
   "cell_type": "code",
   "execution_count": null,
   "id": "1b19b3d2-0176-45c3-b986-420a8ede364f",
   "metadata": {},
   "outputs": [],
   "source": [
    "# #include your name!\n",
    "\n",
    "\n",
    "# import pickle\n",
    "# l = results_deep2\n",
    "# with open(\"results_deep_pickle2\", \"wb\") as fp:   #Pickling\n",
    "#     pickle.dump(l, fp)\n",
    " \n",
    "# with open(\"results_deep_pickle2\", \"rb\") as fp:   # Unpickling\n",
    "#     results_deep_list2 = pickle.load(fp)"
   ]
  },
  {
   "cell_type": "code",
   "execution_count": null,
   "id": "a1fb7323-1542-488f-85ea-1620345b09ef",
   "metadata": {},
   "outputs": [],
   "source": [
    "# #include your name!\n",
    "\n",
    "\n",
    "# import pickle\n",
    "# n = convergence_all2\n",
    "# with open(\"results_convergence_all2\", \"wb\") as fp:   #Pickling\n",
    "#     pickle.dump(n, fp)\n",
    " \n",
    "# with open(\"results_convergence_all2\", \"rb\") as fp:   # Unpickling\n",
    "#     converence_all_list2 = pickle.load(fp)"
   ]
  },
  {
   "cell_type": "markdown",
   "id": "76d29899-44ec-4b8f-b081-d8548784304f",
   "metadata": {},
   "source": [
    "## Safe results"
   ]
  },
  {
   "cell_type": "code",
   "execution_count": 131,
   "id": "bc3d6aaf-eb90-4ece-a689-0fe1512bdc60",
   "metadata": {},
   "outputs": [],
   "source": [
    "# #inlude your name\n",
    "# from ema_workbench import save_results\n",
    "# for i in range(len(results_deep)):\n",
    "#     save_results((results_deep[i], convergence_all[i]), 'results/mordm_worst_case_1nfe_scenario.tar.gz')"
   ]
  },
  {
   "cell_type": "code",
   "execution_count": 130,
   "id": "9b7bf5c3-c383-4adc-a7f2-3ade3c05193a",
   "metadata": {},
   "outputs": [],
   "source": [
    "# from ema_workbench import load_results\n",
    "\n",
    "# results_deep = []\n",
    "# convergence_all = []\n",
    "\n",
    "# for i in range(5):\n",
    "#     result, convergence = load_results('results/mordm_worst_case_1nfe_scenario_1.tar.gz')\n",
    "#     results_deep.append(result)\n",
    "#     convergence_all.append(convergence)"
   ]
  },
  {
   "cell_type": "code",
   "execution_count": 126,
   "id": "eda3201e-6cfa-4471-81bb-fc579ea80037",
   "metadata": {},
   "outputs": [
    {
     "data": {
      "text/plain": [
       "[389, 519, 541, 335, 974]"
      ]
     },
     "execution_count": 126,
     "metadata": {},
     "output_type": "execute_result"
    }
   ],
   "source": [
    "id_scenarios"
   ]
  },
  {
   "cell_type": "code",
   "execution_count": 127,
   "id": "2870c090-2f97-4a98-b55f-b1b4a108eaaf",
   "metadata": {},
   "outputs": [
    {
     "data": {
      "image/png": "[encoded data removed]",
      "text/plain": [
       "<Figure size 864x432 with 2 Axes>"
      ]
     },
     "metadata": {},
     "output_type": "display_data"
    }
   ],
   "source": [
    "fig, (ax1, ax2) = plt.subplots(ncols=2, sharex=True, figsize=(12,6))\n",
    "\n",
    "for i, con in enumerate(convergence_all):\n",
    "    ax1.plot(con['nfe'], con['epsilon_progress'], label=f'Scenario index $\\epsilon$: {id_scenarios[i]}')\n",
    "    ax2.plot(con['nfe'], con['hypervolume'], label=f'Scenario index hp: {id_scenarios[i]}')\n",
    "\n",
    "ax1.set_ylabel('$\\epsilon$-progress')\n",
    "ax2.set_ylabel('hypervolume')\n",
    "\n",
    "ax1.set_xlabel('number of function evaluations')\n",
    "ax2.set_xlabel('number of function evaluations')\n",
    "fig.legend(loc='upper right', bbox_to_anchor=(1.2, 0.9))\n",
    "#plt.savefig('../images/MSMORDM_convergence.png')\n",
    "plt.show()"
   ]
  },
  {
   "cell_type": "code",
   "execution_count": 53,
   "id": "ebf73c31-e3ec-4a77-9392-30d7ea9cac49",
   "metadata": {},
   "outputs": [
    {
     "data": {
      "image/png": "[encoded data removed]",
      "text/plain": [
       "<Figure size 864x432 with 2 Axes>"
      ]
     },
     "metadata": {},
     "output_type": "display_data"
    }
   ],
   "source": [
    "# fig, (ax1, ax2) = plt.subplots(ncols=2, sharex=True, figsize=(12,6))\n",
    "\n",
    "# for i, con in enumerate(convergence_all2):\n",
    "#     ax1.plot(con['nfe'], con['epsilon_progress'], label=f'Scenario index $\\epsilon$: {id_scenarios[i]}')\n",
    "#     ax2.plot(con['nfe'], con['hypervolume'], label=f'Scenario index hp: {id_scenarios[i]}')\n",
    "\n",
    "# ax1.set_ylabel('$\\epsilon$-progress')\n",
    "# ax2.set_ylabel('hypervolume')\n",
    "\n",
    "# ax1.set_xlabel('number of function evaluations')\n",
    "# ax2.set_xlabel('number of function evaluations')\n",
    "# fig.legend(loc='upper right', bbox_to_anchor=(1.2, 0.9))\n",
    "# #plt.savefig('../images/MSMORDM_convergence.png')\n",
    "# plt.show()"
   ]
  },
  {
   "cell_type": "code",
   "execution_count": 55,
   "id": "889bcc8e-e048-44ff-8d88-9c74dfa35dd9",
   "metadata": {},
   "outputs": [
    {
     "data": {
      "image/png": "[encoded data removed]",
      "text/plain": [
       "<Figure size 576x288 with 2 Axes>"
      ]
     },
     "metadata": {},
     "output_type": "display_data"
    }
   ],
   "source": [
    "# fig, (ax1, ax2) = plt.subplots(ncols=2, sharex=True, figsize=(8, 4))\n",
    "# ax1.plot(convergence.nfe, convergence.epsilon_progress)\n",
    "# ax1.set_ylabel(\"$\\epsilon$-progress\")\n",
    "# ax2.plot(convergence.nfe, convergence.hypervolume)\n",
    "# ax2.set_ylabel(\"hypervolume\")\n",
    "\n",
    "# ax1.set_xlabel(\"number of function evaluations\")\n",
    "# ax2.set_xlabel(\"number of function evaluations\")\n",
    "# plt.show()"
   ]
  },
  {
   "cell_type": "code",
   "execution_count": 128,
   "id": "904c75e5-9c91-4b02-bdbe-bfc50aee5346",
   "metadata": {},
   "outputs": [
    {
     "data": {
      "image/png": "[encoded data removed]",
      "text/plain": [
       "<Figure size 432x288 with 4 Axes>"
      ]
     },
     "metadata": {},
     "output_type": "display_data"
    }
   ],
   "source": [
    "from ema_workbench.analysis import parcoords\n",
    "data = results_runs.loc[:, [o.name for o in dike_model.outcomes]]\n",
    "limits = parcoords.get_limits(data)\n",
    "#limits.loc[0, list(df_rp.columns)] = 0\n",
    "\n",
    "paraxes = parcoords.ParallelAxes(limits)\n",
    "paraxes.plot(data)\n",
    "plt.show()"
   ]
  },
  {
   "cell_type": "code",
   "execution_count": null,
   "id": "adee00f7-c25c-4f05-91ac-91415527ac51",
   "metadata": {},
   "outputs": [],
   "source": [
    "ema_logging.log_to_stderr(ema_logging.INFO)\n",
    "\n",
    "# The Hypervolume space has already been defined in the get_problem_formulation_altered function\n",
    "convergence_metrics = [HyperVolume.from_outcomes(dike_model.outcomes),\n",
    "                       EpsilonProgress()]\n",
    "\n",
    "nfe = 1\n",
    "results_deep = []\n",
    "convergence_all = []\n",
    "\n",
    "for scenario in scenarios:\n",
    "    with MultiprocessingEvaluator(dike_model) as evaluator:\n",
    "        results_runs, convergence = evaluator.optimize(nfe=nfe, searchover='levers',\n",
    "                                        epsilons=[1e7, 1e6, 0.00001],\n",
    "                                        convergence=convergence_metrics, reference=scenario, constraints=constraints)\n",
    "                                        \n",
    "        \n",
    "        results_deep.append(results_runs)\n",
    "        convergence_all.append(convergence)\n",
    "# from ema_workbench import save_results\n",
    "\n",
    "# for i in range(len(results_deep)):\n",
    "#     save_results((results_deep[i], convergence_all[i]), f'../results/mordm_7500_rp_scenario{i}.tar.gz')"
   ]
  },
  {
   "cell_type": "markdown",
   "id": "afa8bea0-4871-412b-98ee-82a36265c981",
   "metadata": {},
   "source": [
    "### Code of Workbench"
   ]
  },
  {
   "cell_type": "code",
   "execution_count": null,
   "id": "67352b5e-22dc-4b08-855a-6643a88bf2e8",
   "metadata": {},
   "outputs": [],
   "source": [
    "# MAXIMIZE = ScalarOutcome.MAXIMIZE\n",
    "# MINIMIZE = ScalarOutcome.MINIMIZE\n",
    "\n",
    "# robustnes_functions = [\n",
    "#     ScalarOutcome(\n",
    "#         \"Total Expected Number of Deaths Min\",\n",
    "#         kind=MINIMIZE,\n",
    "#         variable_name=\"Total Expected Number of Deaths\",\n",
    "#     ),\n",
    "#     ScalarOutcome(\n",
    "#         \"Total Expected Annual Damage Min\",\n",
    "#         kind=MINIMIZE,\n",
    "#         variable_name=\"Total Expected Annual Damage\",\n",
    "#     ),\n",
    "#     # ScalarOutcome(\n",
    "#     #     \"10th percentile inertia\",\n",
    "#     #     kind=MAXIMIZE,\n",
    "#     #     variable_name=\"inertia\",\n",
    "#     #     function=percentile10,\n",
    "#     # ),\n",
    "#     # ScalarOutcome(\n",
    "#     #     \"10th percentile utility\",\n",
    "#     #     kind=MAXIMIZE,\n",
    "#     #     variable_name=\"utility\",\n",
    "#     #     function=percentile10,\n",
    "#     # ),\n",
    "# ]"
   ]
  },
  {
   "cell_type": "code",
   "execution_count": null,
   "id": "2f65c877-a5a3-4730-87a1-a5eb283e9bf0",
   "metadata": {},
   "outputs": [],
   "source": [
    "# nfe = int(2) #1e6\n",
    "# with SequentialEvaluator(dike_model) as evaluator:\n",
    "#     robust_results = evaluator.robust_optimize(robustnes_functions, df_scenarios_experiments,\n",
    "#                             nfe=nfe, epsilons=[0.05,]*len(robustnes_functions))"
   ]
  }
 ],
 "metadata": {
  "kernelspec": {
   "display_name": "Python 3 (ipykernel)",
   "language": "python",
   "name": "python3"
  },
  "language_info": {
   "codemirror_mode": {
    "name": "ipython",
    "version": 3
   },
   "file_extension": ".py",
   "mimetype": "text/x-python",
   "name": "python",
   "nbconvert_exporter": "python",
   "pygments_lexer": "ipython3",
   "version": "3.9.7"
  }
 },
 "nbformat": 4,
 "nbformat_minor": 5
}
