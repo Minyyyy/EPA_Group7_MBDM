{
 "cells": [
  {
   "cell_type": "markdown",
   "id": "c70e94e9-8b20-4245-a582-ed3cd7aec2b6",
   "metadata": {},
   "source": [
    "# Minimum and maximum values"
   ]
  },
  {
   "cell_type": "markdown",
   "id": "9440ba2e-0f24-4cda-abb3-328cf89effc8",
   "metadata": {},
   "source": [
    "First, we will assess the min and max values under which we need for the MORDM optimization."
   ]
  },
  {
   "cell_type": "code",
   "execution_count": 19,
   "id": "2e9ec1c8-eca7-4ebd-9504-9fb61b8f2d37",
   "metadata": {},
   "outputs": [],
   "source": [
    "import pandas as pd\n",
    "import numpy as np\n",
    "\n",
    "from ema_workbench import load_results"
   ]
  },
  {
   "cell_type": "code",
   "execution_count": 20,
   "id": "8fb56c07-750b-4760-b143-084614c25675",
   "metadata": {},
   "outputs": [],
   "source": [
    "experiments, outcomes = load_results('../final assignment/results/base_case_disagg_locations_time_no_policy.tar.gz') \n",
    "df_outcomes = pd.DataFrame.from_dict(outcomes)"
   ]
  },
  {
   "cell_type": "code",
   "execution_count": 21,
   "id": "d6ccffa5-b58f-4b01-b0e4-e928fdbf3c51",
   "metadata": {},
   "outputs": [],
   "source": [
    "experiments2, outcomes2 = load_results('../final assignment/results/policies_fully_disaggregated.tar.gz') \n",
    "df2_outcomes = pd.DataFrame.from_dict(outcomes2)"
   ]
  },
  {
   "cell_type": "code",
   "execution_count": 22,
   "id": "bc5a24fa-975d-4cc3-bf92-55b51ec1f918",
   "metadata": {},
   "outputs": [],
   "source": [
    "# function to aggregate over time and locations\n",
    "def aggregate_df(df):\n",
    "    df_aggregate_time = pd.DataFrame()\n",
    "    df_aggregate_time_location = pd.DataFrame()\n",
    "    locations = ['A.1', 'A.2', 'A.3', 'A.4', 'A.5']\n",
    "    step = ['0', '1', '2']\n",
    "    metrics = ['Expected Annual Damage', 'Dike Investment Costs', 'Expected Number of Deaths', 'RfR Total Costs', 'Expected Evacuation Costs']\n",
    "    \n",
    "    for metric in metrics:\n",
    "        if metric == \"RfR Total Costs\" or metric == \"Expected Evacuation Costs\":\n",
    "\n",
    "            columns = [metric + ' ' + time for time in step]\n",
    "\n",
    "            df_aggregate_time_location[metric + ' Aggregate Time'] = df[columns].sum(axis=1)\n",
    "        else:\n",
    "            for location in locations:\n",
    "                columns = [location + '_' + metric + ' ' + time for time in step]\n",
    "\n",
    "                df_aggregate_time[location + '_' + metric + ' Aggregate Time'] = df[columns].sum(axis=1)\n",
    "            \n",
    "            columns_locations = [location + '_' + metric + ' Aggregate Time' for location in locations]\n",
    "            df_aggregate_time_location[metric + ' Aggregate Time and Location'] = df_aggregate_time[columns_locations].sum(axis=1)\n",
    "                    \n",
    "\n",
    "    return df_aggregate_time, df_aggregate_time_location"
   ]
  },
  {
   "cell_type": "code",
   "execution_count": 23,
   "id": "672a216f-f011-430d-8d9e-7c36eae74b37",
   "metadata": {},
   "outputs": [],
   "source": [
    "df1_agg_experiments, df1_agg_outcomes = aggregate_df(df_outcomes)\n",
    "df2_agg_experiments, df2_agg_outcomes = aggregate_df(df2_outcomes)"
   ]
  },
  {
   "cell_type": "code",
   "execution_count": 24,
   "id": "dc31d92a-db2a-40ae-939a-1d22a4e04a9f",
   "metadata": {},
   "outputs": [],
   "source": [
    "max_nopol = df1_agg_outcomes.max()\n",
    "min_nopol = df1_agg_outcomes.min()\n",
    "\n",
    "max_pol = df2_agg_outcomes.max()\n",
    "min_pol = df2_agg_outcomes.min()"
   ]
  },
  {
   "cell_type": "code",
   "execution_count": 25,
   "id": "549c551a-ded5-4c4b-8e8a-a4fa8136d1f9",
   "metadata": {},
   "outputs": [
    {
     "data": {
      "text/plain": [
       "(Expected Annual Damage Aggregate Time and Location       6.248356e+09\n",
       " Dike Investment Costs Aggregate Time and Location        4.715099e+09\n",
       " Expected Number of Deaths Aggregate Time and Location    5.629766e+00\n",
       " RfR Total Costs Aggregate Time                           0.000000e+00\n",
       " Expected Evacuation Costs Aggregate Time                 0.000000e+00\n",
       " dtype: float64,\n",
       " Expected Annual Damage Aggregate Time and Location       5.218044e+07\n",
       " Dike Investment Costs Aggregate Time and Location        0.000000e+00\n",
       " Expected Number of Deaths Aggregate Time and Location    0.000000e+00\n",
       " RfR Total Costs Aggregate Time                           0.000000e+00\n",
       " Expected Evacuation Costs Aggregate Time                 0.000000e+00\n",
       " dtype: float64)"
      ]
     },
     "execution_count": 25,
     "metadata": {},
     "output_type": "execute_result"
    }
   ],
   "source": [
    "max_nopol, min_nopol"
   ]
  },
  {
   "cell_type": "code",
   "execution_count": 26,
   "id": "84876f3d-075a-4001-8da1-08f87d2ed393",
   "metadata": {},
   "outputs": [
    {
     "data": {
      "text/plain": [
       "(Expected Annual Damage Aggregate Time and Location       2.730021e+09\n",
       " Dike Investment Costs Aggregate Time and Location        9.334020e+08\n",
       " Expected Number of Deaths Aggregate Time and Location    2.391760e+00\n",
       " RfR Total Costs Aggregate Time                           1.888800e+09\n",
       " Expected Evacuation Costs Aggregate Time                 1.246373e+05\n",
       " dtype: float64,\n",
       " Expected Annual Damage Aggregate Time and Location       0.000000e+00\n",
       " Dike Investment Costs Aggregate Time and Location        4.777737e+08\n",
       " Expected Number of Deaths Aggregate Time and Location    0.000000e+00\n",
       " RfR Total Costs Aggregate Time                           2.904000e+08\n",
       " Expected Evacuation Costs Aggregate Time                 0.000000e+00\n",
       " dtype: float64)"
      ]
     },
     "execution_count": 26,
     "metadata": {},
     "output_type": "execute_result"
    }
   ],
   "source": [
    "max_pol, min_pol"
   ]
  },
  {
   "cell_type": "code",
   "execution_count": 27,
   "id": "5c724f64-2486-459d-bd7b-5546711f1a18",
   "metadata": {},
   "outputs": [],
   "source": [
    "max_of_range = pd.concat([max_nopol, max_pol], axis=1) #axis = 1 because we want the two options PER objective (instead of everything in one column)\n",
    "min_of_range = pd.concat([min_nopol, min_pol], axis=1)\n",
    "\n",
    "max_of_range = max_of_range.max(axis=1) #of both options, we want the highest of each objective\n",
    "min_of_range = min_of_range.min(axis=1)#of both options, we want the lowest of each objective"
   ]
  },
  {
   "cell_type": "code",
   "execution_count": 28,
   "id": "5b92c289-663f-4720-a744-44b2240839b4",
   "metadata": {},
   "outputs": [
    {
     "data": {
      "text/plain": [
       "(Expected Annual Damage Aggregate Time and Location       6.248356e+09\n",
       " Dike Investment Costs Aggregate Time and Location        4.715099e+09\n",
       " Expected Number of Deaths Aggregate Time and Location    5.629766e+00\n",
       " RfR Total Costs Aggregate Time                           1.888800e+09\n",
       " Expected Evacuation Costs Aggregate Time                 1.246373e+05\n",
       " dtype: float64,\n",
       " Expected Annual Damage Aggregate Time and Location       0.0\n",
       " Dike Investment Costs Aggregate Time and Location        0.0\n",
       " Expected Number of Deaths Aggregate Time and Location    0.0\n",
       " RfR Total Costs Aggregate Time                           0.0\n",
       " Expected Evacuation Costs Aggregate Time                 0.0\n",
       " dtype: float64)"
      ]
     },
     "execution_count": 28,
     "metadata": {},
     "output_type": "execute_result"
    }
   ],
   "source": [
    "max_of_range,min_of_range"
   ]
  },
  {
   "cell_type": "code",
   "execution_count": null,
   "id": "54e293d4-e654-4944-b797-96be91fcf1c5",
   "metadata": {},
   "outputs": [],
   "source": []
  }
 ],
 "metadata": {
  "kernelspec": {
   "display_name": "Python 3 (ipykernel)",
   "language": "python",
   "name": "python3"
  },
  "language_info": {
   "codemirror_mode": {
    "name": "ipython",
    "version": 3
   },
   "file_extension": ".py",
   "mimetype": "text/x-python",
   "name": "python",
   "nbconvert_exporter": "python",
   "pygments_lexer": "ipython3",
   "version": "3.9.7"
  }
 },
 "nbformat": 4,
 "nbformat_minor": 5
}
